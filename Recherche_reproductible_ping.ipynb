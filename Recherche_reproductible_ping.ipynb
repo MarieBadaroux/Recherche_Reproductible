{
 "cells": [
  {
   "cell_type": "markdown",
   "metadata": {},
   "source": [
    "# Latency and capacity estimation for a network connection from asymmetric measurements"
   ]
  },
  {
   "cell_type": "code",
   "execution_count": 65,
   "metadata": {},
   "outputs": [],
   "source": [
    "%matplotlib inline\n",
    "import pandas as pd\n",
    "import matplotlib.pyplot as plt\n",
    "from sklearn.linear_model import LinearRegression\n",
    "import urllib\n",
    "import os"
   ]
  },
  {
   "cell_type": "markdown",
   "metadata": {},
   "source": [
    "## First data set"
   ]
  },
  {
   "cell_type": "code",
   "execution_count": 66,
   "metadata": {},
   "outputs": [],
   "source": [
    "url = 'http://mescal.imag.fr/membres/arnaud.legrand/teaching/2014/RICM4_EP_ping/liglab2.log.gz'\n",
    "urllib.request.urlretrieve(url, '/tmp/liglab2.log.gz')\n",
    "os.system('gunzip /tmp/liglab2.log.gz')\n",
    "os.system('sed -e \"s/\\[/ /\"  -e \"s/]/,/\" -e \"s/bytes.*time=/,/\" -e \"s/ms/ /\" /tmp/liglab2.log > /tmp/ping_campus.log')\n",
    "raw_data = pd.read_table(\"/tmp/ping_campus.log\", header=None, sep=',', engine='python')"
   ]
  },
  {
   "cell_type": "code",
   "execution_count": 67,
   "metadata": {},
   "outputs": [
    {
     "data": {
      "text/html": [
       "<div>\n",
       "<style scoped>\n",
       "    .dataframe tbody tr th:only-of-type {\n",
       "        vertical-align: middle;\n",
       "    }\n",
       "\n",
       "    .dataframe tbody tr th {\n",
       "        vertical-align: top;\n",
       "    }\n",
       "\n",
       "    .dataframe thead th {\n",
       "        text-align: right;\n",
       "    }\n",
       "</style>\n",
       "<table border=\"1\" class=\"dataframe\">\n",
       "  <thead>\n",
       "    <tr style=\"text-align: right;\">\n",
       "      <th></th>\n",
       "      <th>time</th>\n",
       "      <th>bytes</th>\n",
       "      <th>transmission_time</th>\n",
       "    </tr>\n",
       "  </thead>\n",
       "  <tbody>\n",
       "    <tr>\n",
       "      <th>0</th>\n",
       "      <td>1.421762e+09</td>\n",
       "      <td>665</td>\n",
       "      <td>22.50</td>\n",
       "    </tr>\n",
       "    <tr>\n",
       "      <th>1</th>\n",
       "      <td>1.421762e+09</td>\n",
       "      <td>1373</td>\n",
       "      <td>21.20</td>\n",
       "    </tr>\n",
       "    <tr>\n",
       "      <th>2</th>\n",
       "      <td>1.421762e+09</td>\n",
       "      <td>262</td>\n",
       "      <td>21.20</td>\n",
       "    </tr>\n",
       "    <tr>\n",
       "      <th>3</th>\n",
       "      <td>1.421762e+09</td>\n",
       "      <td>1107</td>\n",
       "      <td>23.30</td>\n",
       "    </tr>\n",
       "    <tr>\n",
       "      <th>4</th>\n",
       "      <td>1.421762e+09</td>\n",
       "      <td>1128</td>\n",
       "      <td>1.41</td>\n",
       "    </tr>\n",
       "    <tr>\n",
       "      <th>...</th>\n",
       "      <td>...</td>\n",
       "      <td>...</td>\n",
       "      <td>...</td>\n",
       "    </tr>\n",
       "    <tr>\n",
       "      <th>44408</th>\n",
       "      <td>1.421771e+09</td>\n",
       "      <td>1338</td>\n",
       "      <td>1.47</td>\n",
       "    </tr>\n",
       "    <tr>\n",
       "      <th>44409</th>\n",
       "      <td>1.421771e+09</td>\n",
       "      <td>1515</td>\n",
       "      <td>7.02</td>\n",
       "    </tr>\n",
       "    <tr>\n",
       "      <th>44410</th>\n",
       "      <td>1.421771e+09</td>\n",
       "      <td>1875</td>\n",
       "      <td>2.33</td>\n",
       "    </tr>\n",
       "    <tr>\n",
       "      <th>44411</th>\n",
       "      <td>1.421771e+09</td>\n",
       "      <td>1006</td>\n",
       "      <td>1.61</td>\n",
       "    </tr>\n",
       "    <tr>\n",
       "      <th>44412</th>\n",
       "      <td>1.421771e+09</td>\n",
       "      <td>1273</td>\n",
       "      <td>1.35</td>\n",
       "    </tr>\n",
       "  </tbody>\n",
       "</table>\n",
       "<p>44413 rows × 3 columns</p>\n",
       "</div>"
      ],
      "text/plain": [
       "               time   bytes  transmission_time\n",
       "0      1.421762e+09    665               22.50\n",
       "1      1.421762e+09   1373               21.20\n",
       "2      1.421762e+09    262               21.20\n",
       "3      1.421762e+09   1107               23.30\n",
       "4      1.421762e+09   1128                1.41\n",
       "...             ...     ...                ...\n",
       "44408  1.421771e+09   1338                1.47\n",
       "44409  1.421771e+09   1515                7.02\n",
       "44410  1.421771e+09   1875                2.33\n",
       "44411  1.421771e+09   1006                1.61\n",
       "44412  1.421771e+09   1273                1.35\n",
       "\n",
       "[44413 rows x 3 columns]"
      ]
     },
     "execution_count": 67,
     "metadata": {},
     "output_type": "execute_result"
    }
   ],
   "source": [
    "raw_data.columns = ['time', 'bytes','transmission_time']\n",
    "raw_data"
   ]
  },
  {
   "cell_type": "markdown",
   "metadata": {},
   "source": [
    "We will now look if we have missing data"
   ]
  },
  {
   "cell_type": "code",
   "execution_count": 68,
   "metadata": {},
   "outputs": [
    {
     "data": {
      "text/html": [
       "<div>\n",
       "<style scoped>\n",
       "    .dataframe tbody tr th:only-of-type {\n",
       "        vertical-align: middle;\n",
       "    }\n",
       "\n",
       "    .dataframe tbody tr th {\n",
       "        vertical-align: top;\n",
       "    }\n",
       "\n",
       "    .dataframe thead th {\n",
       "        text-align: right;\n",
       "    }\n",
       "</style>\n",
       "<table border=\"1\" class=\"dataframe\">\n",
       "  <thead>\n",
       "    <tr style=\"text-align: right;\">\n",
       "      <th></th>\n",
       "      <th>time</th>\n",
       "      <th>bytes</th>\n",
       "      <th>transmission_time</th>\n",
       "    </tr>\n",
       "  </thead>\n",
       "  <tbody>\n",
       "    <tr>\n",
       "      <th>12</th>\n",
       "      <td>1.421762e+09</td>\n",
       "      <td>21 bytes from lig-publig.imag.fr (129.88.11.7...</td>\n",
       "      <td>NaN</td>\n",
       "    </tr>\n",
       "    <tr>\n",
       "      <th>116</th>\n",
       "      <td>1.421762e+09</td>\n",
       "      <td>9 bytes from lig-publig.imag.fr (129.88.11.7)...</td>\n",
       "      <td>NaN</td>\n",
       "    </tr>\n",
       "    <tr>\n",
       "      <th>314</th>\n",
       "      <td>1.421762e+09</td>\n",
       "      <td>9 bytes from lig-publig.imag.fr (129.88.11.7)...</td>\n",
       "      <td>NaN</td>\n",
       "    </tr>\n",
       "    <tr>\n",
       "      <th>508</th>\n",
       "      <td>1.421762e+09</td>\n",
       "      <td>9 bytes from lig-publig.imag.fr (129.88.11.7)...</td>\n",
       "      <td>NaN</td>\n",
       "    </tr>\n",
       "    <tr>\n",
       "      <th>590</th>\n",
       "      <td>1.421762e+09</td>\n",
       "      <td>18 bytes from lig-publig.imag.fr (129.88.11.7...</td>\n",
       "      <td>NaN</td>\n",
       "    </tr>\n",
       "    <tr>\n",
       "      <th>...</th>\n",
       "      <td>...</td>\n",
       "      <td>...</td>\n",
       "      <td>...</td>\n",
       "    </tr>\n",
       "    <tr>\n",
       "      <th>43730</th>\n",
       "      <td>1.421771e+09</td>\n",
       "      <td>14 bytes from lig-publig.imag.fr (129.88.11.7...</td>\n",
       "      <td>NaN</td>\n",
       "    </tr>\n",
       "    <tr>\n",
       "      <th>43985</th>\n",
       "      <td>1.421771e+09</td>\n",
       "      <td>12 bytes from lig-publig.imag.fr (129.88.11.7...</td>\n",
       "      <td>NaN</td>\n",
       "    </tr>\n",
       "    <tr>\n",
       "      <th>44024</th>\n",
       "      <td>1.421771e+09</td>\n",
       "      <td>8 bytes from lig-publig.imag.fr (129.88.11.7)...</td>\n",
       "      <td>NaN</td>\n",
       "    </tr>\n",
       "    <tr>\n",
       "      <th>44170</th>\n",
       "      <td>1.421771e+09</td>\n",
       "      <td>8 bytes from lig-publig.imag.fr (129.88.11.7)...</td>\n",
       "      <td>NaN</td>\n",
       "    </tr>\n",
       "    <tr>\n",
       "      <th>44359</th>\n",
       "      <td>1.421771e+09</td>\n",
       "      <td>23 bytes from lig-publig.imag.fr (129.88.11.7...</td>\n",
       "      <td>NaN</td>\n",
       "    </tr>\n",
       "  </tbody>\n",
       "</table>\n",
       "<p>377 rows × 3 columns</p>\n",
       "</div>"
      ],
      "text/plain": [
       "               time                                              bytes  \\\n",
       "12     1.421762e+09   21 bytes from lig-publig.imag.fr (129.88.11.7...   \n",
       "116    1.421762e+09   9 bytes from lig-publig.imag.fr (129.88.11.7)...   \n",
       "314    1.421762e+09   9 bytes from lig-publig.imag.fr (129.88.11.7)...   \n",
       "508    1.421762e+09   9 bytes from lig-publig.imag.fr (129.88.11.7)...   \n",
       "590    1.421762e+09   18 bytes from lig-publig.imag.fr (129.88.11.7...   \n",
       "...             ...                                                ...   \n",
       "43730  1.421771e+09   14 bytes from lig-publig.imag.fr (129.88.11.7...   \n",
       "43985  1.421771e+09   12 bytes from lig-publig.imag.fr (129.88.11.7...   \n",
       "44024  1.421771e+09   8 bytes from lig-publig.imag.fr (129.88.11.7)...   \n",
       "44170  1.421771e+09   8 bytes from lig-publig.imag.fr (129.88.11.7)...   \n",
       "44359  1.421771e+09   23 bytes from lig-publig.imag.fr (129.88.11.7...   \n",
       "\n",
       "       transmission_time  \n",
       "12                   NaN  \n",
       "116                  NaN  \n",
       "314                  NaN  \n",
       "508                  NaN  \n",
       "590                  NaN  \n",
       "...                  ...  \n",
       "43730                NaN  \n",
       "43985                NaN  \n",
       "44024                NaN  \n",
       "44170                NaN  \n",
       "44359                NaN  \n",
       "\n",
       "[377 rows x 3 columns]"
      ]
     },
     "execution_count": 68,
     "metadata": {},
     "output_type": "execute_result"
    }
   ],
   "source": [
    "raw_data[raw_data.isnull().any(axis=1)]"
   ]
  },
  {
   "cell_type": "markdown",
   "metadata": {},
   "source": [
    "We can see that we have 337 lines where the transmission time is missing. We will then delete them."
   ]
  },
  {
   "cell_type": "code",
   "execution_count": 69,
   "metadata": {},
   "outputs": [
    {
     "data": {
      "text/html": [
       "<div>\n",
       "<style scoped>\n",
       "    .dataframe tbody tr th:only-of-type {\n",
       "        vertical-align: middle;\n",
       "    }\n",
       "\n",
       "    .dataframe tbody tr th {\n",
       "        vertical-align: top;\n",
       "    }\n",
       "\n",
       "    .dataframe thead th {\n",
       "        text-align: right;\n",
       "    }\n",
       "</style>\n",
       "<table border=\"1\" class=\"dataframe\">\n",
       "  <thead>\n",
       "    <tr style=\"text-align: right;\">\n",
       "      <th></th>\n",
       "      <th>time</th>\n",
       "      <th>bytes</th>\n",
       "      <th>transmission_time</th>\n",
       "    </tr>\n",
       "  </thead>\n",
       "  <tbody>\n",
       "    <tr>\n",
       "      <th>0</th>\n",
       "      <td>1.421762e+09</td>\n",
       "      <td>665</td>\n",
       "      <td>22.50</td>\n",
       "    </tr>\n",
       "    <tr>\n",
       "      <th>1</th>\n",
       "      <td>1.421762e+09</td>\n",
       "      <td>1373</td>\n",
       "      <td>21.20</td>\n",
       "    </tr>\n",
       "    <tr>\n",
       "      <th>2</th>\n",
       "      <td>1.421762e+09</td>\n",
       "      <td>262</td>\n",
       "      <td>21.20</td>\n",
       "    </tr>\n",
       "    <tr>\n",
       "      <th>3</th>\n",
       "      <td>1.421762e+09</td>\n",
       "      <td>1107</td>\n",
       "      <td>23.30</td>\n",
       "    </tr>\n",
       "    <tr>\n",
       "      <th>4</th>\n",
       "      <td>1.421762e+09</td>\n",
       "      <td>1128</td>\n",
       "      <td>1.41</td>\n",
       "    </tr>\n",
       "    <tr>\n",
       "      <th>...</th>\n",
       "      <td>...</td>\n",
       "      <td>...</td>\n",
       "      <td>...</td>\n",
       "    </tr>\n",
       "    <tr>\n",
       "      <th>44031</th>\n",
       "      <td>1.421771e+09</td>\n",
       "      <td>1338</td>\n",
       "      <td>1.47</td>\n",
       "    </tr>\n",
       "    <tr>\n",
       "      <th>44032</th>\n",
       "      <td>1.421771e+09</td>\n",
       "      <td>1515</td>\n",
       "      <td>7.02</td>\n",
       "    </tr>\n",
       "    <tr>\n",
       "      <th>44033</th>\n",
       "      <td>1.421771e+09</td>\n",
       "      <td>1875</td>\n",
       "      <td>2.33</td>\n",
       "    </tr>\n",
       "    <tr>\n",
       "      <th>44034</th>\n",
       "      <td>1.421771e+09</td>\n",
       "      <td>1006</td>\n",
       "      <td>1.61</td>\n",
       "    </tr>\n",
       "    <tr>\n",
       "      <th>44035</th>\n",
       "      <td>1.421771e+09</td>\n",
       "      <td>1273</td>\n",
       "      <td>1.35</td>\n",
       "    </tr>\n",
       "  </tbody>\n",
       "</table>\n",
       "<p>44036 rows × 3 columns</p>\n",
       "</div>"
      ],
      "text/plain": [
       "               time   bytes  transmission_time\n",
       "0      1.421762e+09    665               22.50\n",
       "1      1.421762e+09   1373               21.20\n",
       "2      1.421762e+09    262               21.20\n",
       "3      1.421762e+09   1107               23.30\n",
       "4      1.421762e+09   1128                1.41\n",
       "...             ...     ...                ...\n",
       "44031  1.421771e+09   1338                1.47\n",
       "44032  1.421771e+09   1515                7.02\n",
       "44033  1.421771e+09   1875                2.33\n",
       "44034  1.421771e+09   1006                1.61\n",
       "44035  1.421771e+09   1273                1.35\n",
       "\n",
       "[44036 rows x 3 columns]"
      ]
     },
     "execution_count": 69,
     "metadata": {},
     "output_type": "execute_result"
    }
   ],
   "source": [
    "data = raw_data.dropna().copy()\n",
    "data = data.reset_index(drop = True)\n",
    "data"
   ]
  },
  {
   "cell_type": "markdown",
   "metadata": {},
   "source": [
    "We need convert the date and time in float to use them."
   ]
  },
  {
   "cell_type": "code",
   "execution_count": 70,
   "metadata": {},
   "outputs": [
    {
     "data": {
      "text/html": [
       "<div>\n",
       "<style scoped>\n",
       "    .dataframe tbody tr th:only-of-type {\n",
       "        vertical-align: middle;\n",
       "    }\n",
       "\n",
       "    .dataframe tbody tr th {\n",
       "        vertical-align: top;\n",
       "    }\n",
       "\n",
       "    .dataframe thead th {\n",
       "        text-align: right;\n",
       "    }\n",
       "</style>\n",
       "<table border=\"1\" class=\"dataframe\">\n",
       "  <thead>\n",
       "    <tr style=\"text-align: right;\">\n",
       "      <th></th>\n",
       "      <th>time</th>\n",
       "      <th>bytes</th>\n",
       "      <th>transmission_time</th>\n",
       "    </tr>\n",
       "  </thead>\n",
       "  <tbody>\n",
       "    <tr>\n",
       "      <th>0</th>\n",
       "      <td>1.421762e+09</td>\n",
       "      <td>665</td>\n",
       "      <td>22.50</td>\n",
       "    </tr>\n",
       "    <tr>\n",
       "      <th>1</th>\n",
       "      <td>1.421762e+09</td>\n",
       "      <td>1373</td>\n",
       "      <td>21.20</td>\n",
       "    </tr>\n",
       "    <tr>\n",
       "      <th>2</th>\n",
       "      <td>1.421762e+09</td>\n",
       "      <td>262</td>\n",
       "      <td>21.20</td>\n",
       "    </tr>\n",
       "    <tr>\n",
       "      <th>3</th>\n",
       "      <td>1.421762e+09</td>\n",
       "      <td>1107</td>\n",
       "      <td>23.30</td>\n",
       "    </tr>\n",
       "    <tr>\n",
       "      <th>4</th>\n",
       "      <td>1.421762e+09</td>\n",
       "      <td>1128</td>\n",
       "      <td>1.41</td>\n",
       "    </tr>\n",
       "    <tr>\n",
       "      <th>...</th>\n",
       "      <td>...</td>\n",
       "      <td>...</td>\n",
       "      <td>...</td>\n",
       "    </tr>\n",
       "    <tr>\n",
       "      <th>44031</th>\n",
       "      <td>1.421771e+09</td>\n",
       "      <td>1338</td>\n",
       "      <td>1.47</td>\n",
       "    </tr>\n",
       "    <tr>\n",
       "      <th>44032</th>\n",
       "      <td>1.421771e+09</td>\n",
       "      <td>1515</td>\n",
       "      <td>7.02</td>\n",
       "    </tr>\n",
       "    <tr>\n",
       "      <th>44033</th>\n",
       "      <td>1.421771e+09</td>\n",
       "      <td>1875</td>\n",
       "      <td>2.33</td>\n",
       "    </tr>\n",
       "    <tr>\n",
       "      <th>44034</th>\n",
       "      <td>1.421771e+09</td>\n",
       "      <td>1006</td>\n",
       "      <td>1.61</td>\n",
       "    </tr>\n",
       "    <tr>\n",
       "      <th>44035</th>\n",
       "      <td>1.421771e+09</td>\n",
       "      <td>1273</td>\n",
       "      <td>1.35</td>\n",
       "    </tr>\n",
       "  </tbody>\n",
       "</table>\n",
       "<p>44036 rows × 3 columns</p>\n",
       "</div>"
      ],
      "text/plain": [
       "               time  bytes  transmission_time\n",
       "0      1.421762e+09    665              22.50\n",
       "1      1.421762e+09   1373              21.20\n",
       "2      1.421762e+09    262              21.20\n",
       "3      1.421762e+09   1107              23.30\n",
       "4      1.421762e+09   1128               1.41\n",
       "...             ...    ...                ...\n",
       "44031  1.421771e+09   1338               1.47\n",
       "44032  1.421771e+09   1515               7.02\n",
       "44033  1.421771e+09   1875               2.33\n",
       "44034  1.421771e+09   1006               1.61\n",
       "44035  1.421771e+09   1273               1.35\n",
       "\n",
       "[44036 rows x 3 columns]"
      ]
     },
     "execution_count": 70,
     "metadata": {},
     "output_type": "execute_result"
    }
   ],
   "source": [
    "data['time'] = data['time'].astype(float)\n",
    "data['transmission_time'] = data['transmission_time'].astype(float)\n",
    "data['bytes'] = data['bytes'].astype(int)\n",
    "data"
   ]
  },
  {
   "cell_type": "markdown",
   "metadata": {},
   "source": [
    "### Question 1/"
   ]
  },
  {
   "cell_type": "code",
   "execution_count": 71,
   "metadata": {},
   "outputs": [
    {
     "data": {
      "text/plain": [
       "<matplotlib.axes._subplots.AxesSubplot at 0x7fe0f847b610>"
      ]
     },
     "execution_count": 71,
     "metadata": {},
     "output_type": "execute_result"
    },
    {
     "data": {
      "image/png": "[encoded data removed]",
      "text/plain": [
       "<Figure size 432x288 with 1 Axes>"
      ]
     },
     "metadata": {
      "needs_background": "light"
     },
     "output_type": "display_data"
    }
   ],
   "source": [
    "data.plot(x='time', y='transmission_time', title=\"Evolution of transmission time\")"
   ]
  },
  {
   "cell_type": "markdown",
   "metadata": {},
   "source": [
    "This is not really readable. We will take a different time scale to have a better view of the data."
   ]
  },
  {
   "cell_type": "code",
   "execution_count": 72,
   "metadata": {},
   "outputs": [
    {
     "data": {
      "text/plain": [
       "2.6402189027600818"
      ]
     },
     "execution_count": 72,
     "metadata": {},
     "output_type": "execute_result"
    }
   ],
   "source": [
    "(data['time'][44035] - data['time'][0]) / 3600"
   ]
  },
  {
   "cell_type": "markdown",
   "metadata": {},
   "source": [
    "The difference time between the first byte sent and the last one is about 2,6 hours. We will plot only the first quarter of the data to see what it looks like."
   ]
  },
  {
   "cell_type": "code",
   "execution_count": 73,
   "metadata": {},
   "outputs": [
    {
     "data": {
      "text/plain": [
       "<matplotlib.axes._subplots.AxesSubplot at 0x7fe0f857eb20>"
      ]
     },
     "execution_count": 73,
     "metadata": {},
     "output_type": "execute_result"
    },
    {
     "data": {
      "image/png": "[encoded data removed]",
      "text/plain": [
       "<Figure size 432x288 with 1 Axes>"
      ]
     },
     "metadata": {
      "needs_background": "light"
     },
     "output_type": "display_data"
    }
   ],
   "source": [
    "data[0:10000].plot(x='time', y='transmission_time', title=\"Evolution of transmission time\")"
   ]
  },
  {
   "cell_type": "code",
   "execution_count": 74,
   "metadata": {},
   "outputs": [
    {
     "data": {
      "text/plain": [
       "<matplotlib.axes._subplots.AxesSubplot at 0x7fe0f82dbe80>"
      ]
     },
     "execution_count": 74,
     "metadata": {},
     "output_type": "execute_result"
    },
    {
     "data": {
      "image/png": "[encoded data removed]",
      "text/plain": [
       "<Figure size 432x288 with 1 Axes>"
      ]
     },
     "metadata": {
      "needs_background": "light"
     },
     "output_type": "display_data"
    }
   ],
   "source": [
    "data[0:1000].plot(x='time', y='transmission_time', title=\"Evolution of transmission time\")"
   ]
  },
  {
   "cell_type": "markdown",
   "metadata": {},
   "source": [
    "We can not say yet why we have this kind of graphic. Is the variations of time only depend on the size of the packet? To answer, we need to continue our analysis."
   ]
  },
  {
   "cell_type": "markdown",
   "metadata": {},
   "source": [
    "### Question 2/"
   ]
  },
  {
   "cell_type": "code",
   "execution_count": 76,
   "metadata": {},
   "outputs": [
    {
     "data": {
      "text/plain": [
       "<matplotlib.axes._subplots.AxesSubplot at 0x7fe0f801d370>"
      ]
     },
     "execution_count": 76,
     "metadata": {},
     "output_type": "execute_result"
    },
    {
     "data": {
      "image/png": "[encoded data removed]",
      "text/plain": [
       "<Figure size 432x288 with 1 Axes>"
      ]
     },
     "metadata": {
      "needs_background": "light"
     },
     "output_type": "display_data"
    }
   ],
   "source": [
    "data.plot(x='bytes', y='transmission_time', title=\"Evolution of transmission time according to the size of the packet\", style='.')"
   ]
  },
  {
   "cell_type": "markdown",
   "metadata": {},
   "source": [
    "We observe a \"disruption\" when the packet size is more than 1500 bytes. For packets whose size is between 0 and 1500 bytes, the transmission time is more or less between 0 and 2,5 ms. But when the size of the packets is bigger than 1500 bytes, the transmission time could reach at least 8,5 ms."
   ]
  },
  {
   "cell_type": "markdown",
   "metadata": {},
   "source": [
    "### Question 3/"
   ]
  },
  {
   "cell_type": "markdown",
   "metadata": {},
   "source": [
    "If we zoom, we can see that the limitation between the two part is more at 1480 bytes. We will take this value for the next question."
   ]
  },
  {
   "cell_type": "code",
   "execution_count": null,
   "metadata": {},
   "outputs": [],
   "source": []
  }
 ],
 "metadata": {
  "kernelspec": {
   "display_name": "Python 3",
   "language": "python",
   "name": "python3"
  },
  "language_info": {
   "codemirror_mode": {
    "name": "ipython",
    "version": 3
   },
   "file_extension": ".py",
   "mimetype": "text/x-python",
   "name": "python",
   "nbconvert_exporter": "python",
   "pygments_lexer": "ipython3",
   "version": "3.8.0"
  }
 },
 "nbformat": 4,
 "nbformat_minor": 2
}
