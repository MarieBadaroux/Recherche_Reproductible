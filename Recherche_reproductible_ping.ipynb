{
 "cells": [
  {
   "cell_type": "markdown",
   "metadata": {},
   "source": [
    "# Latency and capacity estimation for a network connection from asymmetric measurements"
   ]
  },
  {
   "cell_type": "code",
   "execution_count": 423,
   "metadata": {},
   "outputs": [],
   "source": [
    "%matplotlib inline\n",
    "import pandas as pd\n",
    "import matplotlib.pyplot as plt\n",
    "from sklearn.linear_model import LinearRegression\n",
    "import urllib\n",
    "import os\n",
    "import statsmodels.api as sm\n",
    "import statsmodels.formula.api as smf\n",
    "import numpy as np"
   ]
  },
  {
   "cell_type": "markdown",
   "metadata": {},
   "source": [
    "## FIRST DATA SET"
   ]
  },
  {
   "cell_type": "code",
   "execution_count": 424,
   "metadata": {},
   "outputs": [],
   "source": [
    "url = 'http://mescal.imag.fr/membres/arnaud.legrand/teaching/2014/RICM4_EP_ping/liglab2.log.gz'\n",
    "urllib.request.urlretrieve(url, '/tmp/liglab2.log.gz')\n",
    "os.system('gunzip /tmp/liglab2.log.gz')\n",
    "os.system('sed -e \"s/\\[/ /\"  -e \"s/]/,/\" -e \"s/bytes.*time=/,/\" -e \"s/ms/ /\" /tmp/liglab2.log > /tmp/ping_campus.log')\n",
    "raw_data = pd.read_table(\"/tmp/ping_campus.log\", header=None, sep=',', engine='python')"
   ]
  },
  {
   "cell_type": "code",
   "execution_count": 425,
   "metadata": {},
   "outputs": [
    {
     "data": {
      "text/html": [
       "<div>\n",
       "<style scoped>\n",
       "    .dataframe tbody tr th:only-of-type {\n",
       "        vertical-align: middle;\n",
       "    }\n",
       "\n",
       "    .dataframe tbody tr th {\n",
       "        vertical-align: top;\n",
       "    }\n",
       "\n",
       "    .dataframe thead th {\n",
       "        text-align: right;\n",
       "    }\n",
       "</style>\n",
       "<table border=\"1\" class=\"dataframe\">\n",
       "  <thead>\n",
       "    <tr style=\"text-align: right;\">\n",
       "      <th></th>\n",
       "      <th>time</th>\n",
       "      <th>bytes</th>\n",
       "      <th>transmission_time</th>\n",
       "    </tr>\n",
       "  </thead>\n",
       "  <tbody>\n",
       "    <tr>\n",
       "      <th>0</th>\n",
       "      <td>1.421762e+09</td>\n",
       "      <td>665</td>\n",
       "      <td>22.50</td>\n",
       "    </tr>\n",
       "    <tr>\n",
       "      <th>1</th>\n",
       "      <td>1.421762e+09</td>\n",
       "      <td>1373</td>\n",
       "      <td>21.20</td>\n",
       "    </tr>\n",
       "    <tr>\n",
       "      <th>2</th>\n",
       "      <td>1.421762e+09</td>\n",
       "      <td>262</td>\n",
       "      <td>21.20</td>\n",
       "    </tr>\n",
       "    <tr>\n",
       "      <th>3</th>\n",
       "      <td>1.421762e+09</td>\n",
       "      <td>1107</td>\n",
       "      <td>23.30</td>\n",
       "    </tr>\n",
       "    <tr>\n",
       "      <th>4</th>\n",
       "      <td>1.421762e+09</td>\n",
       "      <td>1128</td>\n",
       "      <td>1.41</td>\n",
       "    </tr>\n",
       "    <tr>\n",
       "      <th>...</th>\n",
       "      <td>...</td>\n",
       "      <td>...</td>\n",
       "      <td>...</td>\n",
       "    </tr>\n",
       "    <tr>\n",
       "      <th>44408</th>\n",
       "      <td>1.421771e+09</td>\n",
       "      <td>1338</td>\n",
       "      <td>1.47</td>\n",
       "    </tr>\n",
       "    <tr>\n",
       "      <th>44409</th>\n",
       "      <td>1.421771e+09</td>\n",
       "      <td>1515</td>\n",
       "      <td>7.02</td>\n",
       "    </tr>\n",
       "    <tr>\n",
       "      <th>44410</th>\n",
       "      <td>1.421771e+09</td>\n",
       "      <td>1875</td>\n",
       "      <td>2.33</td>\n",
       "    </tr>\n",
       "    <tr>\n",
       "      <th>44411</th>\n",
       "      <td>1.421771e+09</td>\n",
       "      <td>1006</td>\n",
       "      <td>1.61</td>\n",
       "    </tr>\n",
       "    <tr>\n",
       "      <th>44412</th>\n",
       "      <td>1.421771e+09</td>\n",
       "      <td>1273</td>\n",
       "      <td>1.35</td>\n",
       "    </tr>\n",
       "  </tbody>\n",
       "</table>\n",
       "<p>44413 rows × 3 columns</p>\n",
       "</div>"
      ],
      "text/plain": [
       "               time   bytes  transmission_time\n",
       "0      1.421762e+09    665               22.50\n",
       "1      1.421762e+09   1373               21.20\n",
       "2      1.421762e+09    262               21.20\n",
       "3      1.421762e+09   1107               23.30\n",
       "4      1.421762e+09   1128                1.41\n",
       "...             ...     ...                ...\n",
       "44408  1.421771e+09   1338                1.47\n",
       "44409  1.421771e+09   1515                7.02\n",
       "44410  1.421771e+09   1875                2.33\n",
       "44411  1.421771e+09   1006                1.61\n",
       "44412  1.421771e+09   1273                1.35\n",
       "\n",
       "[44413 rows x 3 columns]"
      ]
     },
     "execution_count": 425,
     "metadata": {},
     "output_type": "execute_result"
    }
   ],
   "source": [
    "raw_data.columns = ['time', 'bytes','transmission_time']\n",
    "raw_data"
   ]
  },
  {
   "cell_type": "markdown",
   "metadata": {},
   "source": [
    "We will now look if we have missing data"
   ]
  },
  {
   "cell_type": "code",
   "execution_count": 426,
   "metadata": {},
   "outputs": [
    {
     "data": {
      "text/html": [
       "<div>\n",
       "<style scoped>\n",
       "    .dataframe tbody tr th:only-of-type {\n",
       "        vertical-align: middle;\n",
       "    }\n",
       "\n",
       "    .dataframe tbody tr th {\n",
       "        vertical-align: top;\n",
       "    }\n",
       "\n",
       "    .dataframe thead th {\n",
       "        text-align: right;\n",
       "    }\n",
       "</style>\n",
       "<table border=\"1\" class=\"dataframe\">\n",
       "  <thead>\n",
       "    <tr style=\"text-align: right;\">\n",
       "      <th></th>\n",
       "      <th>time</th>\n",
       "      <th>bytes</th>\n",
       "      <th>transmission_time</th>\n",
       "    </tr>\n",
       "  </thead>\n",
       "  <tbody>\n",
       "    <tr>\n",
       "      <th>12</th>\n",
       "      <td>1.421762e+09</td>\n",
       "      <td>21 bytes from lig-publig.imag.fr (129.88.11.7...</td>\n",
       "      <td>NaN</td>\n",
       "    </tr>\n",
       "    <tr>\n",
       "      <th>116</th>\n",
       "      <td>1.421762e+09</td>\n",
       "      <td>9 bytes from lig-publig.imag.fr (129.88.11.7)...</td>\n",
       "      <td>NaN</td>\n",
       "    </tr>\n",
       "    <tr>\n",
       "      <th>314</th>\n",
       "      <td>1.421762e+09</td>\n",
       "      <td>9 bytes from lig-publig.imag.fr (129.88.11.7)...</td>\n",
       "      <td>NaN</td>\n",
       "    </tr>\n",
       "    <tr>\n",
       "      <th>508</th>\n",
       "      <td>1.421762e+09</td>\n",
       "      <td>9 bytes from lig-publig.imag.fr (129.88.11.7)...</td>\n",
       "      <td>NaN</td>\n",
       "    </tr>\n",
       "    <tr>\n",
       "      <th>590</th>\n",
       "      <td>1.421762e+09</td>\n",
       "      <td>18 bytes from lig-publig.imag.fr (129.88.11.7...</td>\n",
       "      <td>NaN</td>\n",
       "    </tr>\n",
       "    <tr>\n",
       "      <th>...</th>\n",
       "      <td>...</td>\n",
       "      <td>...</td>\n",
       "      <td>...</td>\n",
       "    </tr>\n",
       "    <tr>\n",
       "      <th>43730</th>\n",
       "      <td>1.421771e+09</td>\n",
       "      <td>14 bytes from lig-publig.imag.fr (129.88.11.7...</td>\n",
       "      <td>NaN</td>\n",
       "    </tr>\n",
       "    <tr>\n",
       "      <th>43985</th>\n",
       "      <td>1.421771e+09</td>\n",
       "      <td>12 bytes from lig-publig.imag.fr (129.88.11.7...</td>\n",
       "      <td>NaN</td>\n",
       "    </tr>\n",
       "    <tr>\n",
       "      <th>44024</th>\n",
       "      <td>1.421771e+09</td>\n",
       "      <td>8 bytes from lig-publig.imag.fr (129.88.11.7)...</td>\n",
       "      <td>NaN</td>\n",
       "    </tr>\n",
       "    <tr>\n",
       "      <th>44170</th>\n",
       "      <td>1.421771e+09</td>\n",
       "      <td>8 bytes from lig-publig.imag.fr (129.88.11.7)...</td>\n",
       "      <td>NaN</td>\n",
       "    </tr>\n",
       "    <tr>\n",
       "      <th>44359</th>\n",
       "      <td>1.421771e+09</td>\n",
       "      <td>23 bytes from lig-publig.imag.fr (129.88.11.7...</td>\n",
       "      <td>NaN</td>\n",
       "    </tr>\n",
       "  </tbody>\n",
       "</table>\n",
       "<p>377 rows × 3 columns</p>\n",
       "</div>"
      ],
      "text/plain": [
       "               time                                              bytes  \\\n",
       "12     1.421762e+09   21 bytes from lig-publig.imag.fr (129.88.11.7...   \n",
       "116    1.421762e+09   9 bytes from lig-publig.imag.fr (129.88.11.7)...   \n",
       "314    1.421762e+09   9 bytes from lig-publig.imag.fr (129.88.11.7)...   \n",
       "508    1.421762e+09   9 bytes from lig-publig.imag.fr (129.88.11.7)...   \n",
       "590    1.421762e+09   18 bytes from lig-publig.imag.fr (129.88.11.7...   \n",
       "...             ...                                                ...   \n",
       "43730  1.421771e+09   14 bytes from lig-publig.imag.fr (129.88.11.7...   \n",
       "43985  1.421771e+09   12 bytes from lig-publig.imag.fr (129.88.11.7...   \n",
       "44024  1.421771e+09   8 bytes from lig-publig.imag.fr (129.88.11.7)...   \n",
       "44170  1.421771e+09   8 bytes from lig-publig.imag.fr (129.88.11.7)...   \n",
       "44359  1.421771e+09   23 bytes from lig-publig.imag.fr (129.88.11.7...   \n",
       "\n",
       "       transmission_time  \n",
       "12                   NaN  \n",
       "116                  NaN  \n",
       "314                  NaN  \n",
       "508                  NaN  \n",
       "590                  NaN  \n",
       "...                  ...  \n",
       "43730                NaN  \n",
       "43985                NaN  \n",
       "44024                NaN  \n",
       "44170                NaN  \n",
       "44359                NaN  \n",
       "\n",
       "[377 rows x 3 columns]"
      ]
     },
     "execution_count": 426,
     "metadata": {},
     "output_type": "execute_result"
    }
   ],
   "source": [
    "raw_data[raw_data.isnull().any(axis=1)]"
   ]
  },
  {
   "cell_type": "markdown",
   "metadata": {},
   "source": [
    "We can see that we have 337 lines where the transmission time is missing. We will delete them."
   ]
  },
  {
   "cell_type": "code",
   "execution_count": 427,
   "metadata": {},
   "outputs": [],
   "source": [
    "data = raw_data.dropna().copy()\n",
    "data = data.reset_index(drop = True)"
   ]
  },
  {
   "cell_type": "markdown",
   "metadata": {},
   "source": [
    "We need to convert the time and transmission_time in float to use them."
   ]
  },
  {
   "cell_type": "code",
   "execution_count": 428,
   "metadata": {},
   "outputs": [],
   "source": [
    "data['time'] = data['time'].astype(float)\n",
    "data['transmission_time'] = data['transmission_time'].astype(float)\n",
    "data['bytes'] = data['bytes'].astype(int)"
   ]
  },
  {
   "cell_type": "markdown",
   "metadata": {},
   "source": [
    "### <u>Question 1/</u>"
   ]
  },
  {
   "cell_type": "code",
   "execution_count": 429,
   "metadata": {},
   "outputs": [
    {
     "data": {
      "text/plain": [
       "<matplotlib.axes._subplots.AxesSubplot at 0x7fb7b2efc340>"
      ]
     },
     "execution_count": 429,
     "metadata": {},
     "output_type": "execute_result"
    },
    {
     "data": {
      "image/png": "[encoded data removed]",
      "text/plain": [
       "<Figure size 432x288 with 1 Axes>"
      ]
     },
     "metadata": {
      "needs_background": "light"
     },
     "output_type": "display_data"
    }
   ],
   "source": [
    "data.plot(x='time', y='transmission_time', title=\"Evolution of transmission time\")"
   ]
  },
  {
   "cell_type": "markdown",
   "metadata": {},
   "source": [
    "This is not really readable. We will take a different time scale to have a better view of the data."
   ]
  },
  {
   "cell_type": "code",
   "execution_count": 430,
   "metadata": {},
   "outputs": [
    {
     "data": {
      "text/plain": [
       "2.6402189027600818"
      ]
     },
     "execution_count": 430,
     "metadata": {},
     "output_type": "execute_result"
    }
   ],
   "source": [
    "(data['time'][44035] - data['time'][0]) / 3600"
   ]
  },
  {
   "cell_type": "markdown",
   "metadata": {},
   "source": [
    "The time between the first byte sent and the last one is about 2,6 hours. We will plot only the first quarter of the data to see what it looks like."
   ]
  },
  {
   "cell_type": "code",
   "execution_count": 431,
   "metadata": {},
   "outputs": [
    {
     "data": {
      "text/plain": [
       "<matplotlib.axes._subplots.AxesSubplot at 0x7fb7b286b0a0>"
      ]
     },
     "execution_count": 431,
     "metadata": {},
     "output_type": "execute_result"
    },
    {
     "data": {
      "image/png": "[encoded data removed]",
      "text/plain": [
       "<Figure size 432x288 with 1 Axes>"
      ]
     },
     "metadata": {
      "needs_background": "light"
     },
     "output_type": "display_data"
    }
   ],
   "source": [
    "data[0:10000].plot(x='time', y='transmission_time', title=\"Evolution of transmission time\")"
   ]
  },
  {
   "cell_type": "code",
   "execution_count": 432,
   "metadata": {},
   "outputs": [
    {
     "data": {
      "text/plain": [
       "<matplotlib.axes._subplots.AxesSubplot at 0x7fb7b27ba520>"
      ]
     },
     "execution_count": 432,
     "metadata": {},
     "output_type": "execute_result"
    },
    {
     "data": {
      "image/png": "[encoded data removed]",
      "text/plain": [
       "<Figure size 432x288 with 1 Axes>"
      ]
     },
     "metadata": {
      "needs_background": "light"
     },
     "output_type": "display_data"
    }
   ],
   "source": [
    "data[0:1000].plot(x='time', y='transmission_time', title=\"Evolution of transmission time\")"
   ]
  },
  {
   "cell_type": "markdown",
   "metadata": {},
   "source": [
    "We can not say yet why we have this kind of graph. Do the variations of time only depend on the size of the packet? To answer, we need to continue our analysis."
   ]
  },
  {
   "cell_type": "markdown",
   "metadata": {},
   "source": [
    "### <u>Question 2/</u>"
   ]
  },
  {
   "cell_type": "code",
   "execution_count": 433,
   "metadata": {},
   "outputs": [
    {
     "data": {
      "text/plain": [
       "<matplotlib.axes._subplots.AxesSubplot at 0x7fb7b272fe20>"
      ]
     },
     "execution_count": 433,
     "metadata": {},
     "output_type": "execute_result"
    },
    {
     "data": {
      "image/png": "[encoded data removed]",
      "text/plain": [
       "<Figure size 432x288 with 1 Axes>"
      ]
     },
     "metadata": {
      "needs_background": "light"
     },
     "output_type": "display_data"
    }
   ],
   "source": [
    "data.plot(x='bytes', y='transmission_time', title=\"Evolution of transmission time according to the size of packets\", style='.')"
   ]
  },
  {
   "cell_type": "markdown",
   "metadata": {},
   "source": [
    "We observe a \"disruption\" when the packet size is more than 1500 bytes. For packets whose size is between 0 and 1500 bytes, the transmission time is more or less between 0 and 25 ms. But when the size of the packets is bigger than 1500 bytes, the transmission time can reach at least 85 ms."
   ]
  },
  {
   "cell_type": "markdown",
   "metadata": {},
   "source": [
    "### <u>Question 3/</u>"
   ]
  },
  {
   "cell_type": "markdown",
   "metadata": {},
   "source": [
    "If we zoom in, we can see that the limitation between the two parts is 1480 bytes. We will take this value for the next questions."
   ]
  },
  {
   "cell_type": "code",
   "execution_count": 434,
   "metadata": {},
   "outputs": [
    {
     "data": {
      "text/plain": [
       "<matplotlib.axes._subplots.AxesSubplot at 0x7fb7b26cc0a0>"
      ]
     },
     "execution_count": 434,
     "metadata": {},
     "output_type": "execute_result"
    },
    {
     "data": {
      "image/png": "[encoded data removed]",
      "text/plain": [
       "<Figure size 432x288 with 1 Axes>"
      ]
     },
     "metadata": {
      "needs_background": "light"
     },
     "output_type": "display_data"
    }
   ],
   "source": [
    "data_1 = data.query('bytes <= 1480')\n",
    "data_1 = data_1.reset_index(drop = True)\n",
    "data_1.plot(x='bytes', y='transmission_time', title=\"Evolution of transmission time according to the size of packets\", style='.')"
   ]
  },
  {
   "cell_type": "code",
   "execution_count": 435,
   "metadata": {},
   "outputs": [
    {
     "data": {
      "text/plain": [
       "<matplotlib.axes._subplots.AxesSubplot at 0x7fb7b2690130>"
      ]
     },
     "execution_count": 435,
     "metadata": {},
     "output_type": "execute_result"
    },
    {
     "data": {
      "image/png": "[encoded data removed]",
      "text/plain": [
       "<Figure size 432x288 with 1 Axes>"
      ]
     },
     "metadata": {
      "needs_background": "light"
     },
     "output_type": "display_data"
    }
   ],
   "source": [
    "data_2 = data.query('bytes > 1480')\n",
    "data_2 = data_2.reset_index(drop = True)\n",
    "data_2.plot(x='bytes', y='transmission_time', title=\"Evolution of transmission time according to the size of packets\", style='.')"
   ]
  },
  {
   "cell_type": "markdown",
   "metadata": {},
   "source": [
    "### Linear regression data 1 with sklearn"
   ]
  },
  {
   "cell_type": "code",
   "execution_count": 436,
   "metadata": {},
   "outputs": [
    {
     "data": {
      "text/plain": [
       "[<matplotlib.lines.Line2D at 0x7fb7b26b82e0>]"
      ]
     },
     "execution_count": 436,
     "metadata": {},
     "output_type": "execute_result"
    },
    {
     "data": {
      "image/png": "[encoded data removed]",
      "text/plain": [
       "<Figure size 432x288 with 1 Axes>"
      ]
     },
     "metadata": {
      "needs_background": "light"
     },
     "output_type": "display_data"
    }
   ],
   "source": [
    "linear_regressor = LinearRegression()\n",
    "linear_regressor.fit(data_1['bytes'].values.reshape(-1, 1), data_1['transmission_time'].values.reshape(-1, 1))\n",
    "Y_pred = linear_regressor.predict(data_1['bytes'].values.reshape(-1, 1))\n",
    "data_1.plot(x='bytes', y='transmission_time', title=\"Evolution of transmission time according to the size of packets\", style='.')\n",
    "plt.plot(data_1['bytes'].values.reshape(-1, 1), Y_pred, color='red')"
   ]
  },
  {
   "cell_type": "code",
   "execution_count": 437,
   "metadata": {},
   "outputs": [
    {
     "data": {
      "text/plain": [
       "array([[0.00032632]])"
      ]
     },
     "execution_count": 437,
     "metadata": {},
     "output_type": "execute_result"
    }
   ],
   "source": [
    "linear_regressor.coef_"
   ]
  },
  {
   "cell_type": "code",
   "execution_count": 438,
   "metadata": {},
   "outputs": [
    {
     "data": {
      "text/plain": [
       "array([3.2756742])"
      ]
     },
     "execution_count": 438,
     "metadata": {},
     "output_type": "execute_result"
    }
   ],
   "source": [
    "linear_regressor.intercept_"
   ]
  },
  {
   "cell_type": "markdown",
   "metadata": {},
   "source": [
    "As we plot $T(S) = L + \\frac{S}{C}$, .coef_ corresponds to $\\frac{1}{C}$ and .intercept_ corresponds to $L$.\n",
    "\n",
    "$\\frac{1}{C} = 0.00032632$ so $C = \\frac{1}{0.00032632} = 3064.4765874$ bytes per sec\n",
    "\n",
    "$L = 3.2756742$ ms"
   ]
  },
  {
   "cell_type": "markdown",
   "metadata": {},
   "source": [
    "### Linear regression data 2 with sklearn"
   ]
  },
  {
   "cell_type": "code",
   "execution_count": 439,
   "metadata": {},
   "outputs": [
    {
     "data": {
      "text/plain": [
       "[<matplotlib.lines.Line2D at 0x7fb7b1b00310>]"
      ]
     },
     "execution_count": 439,
     "metadata": {},
     "output_type": "execute_result"
    },
    {
     "data": {
      "image/png": "[encoded data removed]",
      "text/plain": [
       "<Figure size 432x288 with 1 Axes>"
      ]
     },
     "metadata": {
      "needs_background": "light"
     },
     "output_type": "display_data"
    }
   ],
   "source": [
    "linear_regressor2 = LinearRegression()\n",
    "linear_regressor2.fit(data_2['bytes'].values.reshape(-1, 1), data_2['transmission_time'].values.reshape(-1, 1))\n",
    "Y_pred = linear_regressor2.predict(data_2['bytes'].values.reshape(-1, 1))\n",
    "data_2.plot(x='bytes', y='transmission_time', title=\"Evolution of transmission time according to the size of packets\", style='.')\n",
    "plt.plot(data_2['bytes'].values.reshape(-1, 1), Y_pred, color='red')"
   ]
  },
  {
   "cell_type": "code",
   "execution_count": 440,
   "metadata": {},
   "outputs": [
    {
     "data": {
      "text/plain": [
       "array([[0.00257891]])"
      ]
     },
     "execution_count": 440,
     "metadata": {},
     "output_type": "execute_result"
    }
   ],
   "source": [
    "linear_regressor2.coef_"
   ]
  },
  {
   "cell_type": "code",
   "execution_count": 441,
   "metadata": {},
   "outputs": [
    {
     "data": {
      "text/plain": [
       "array([5.28983257])"
      ]
     },
     "execution_count": 441,
     "metadata": {},
     "output_type": "execute_result"
    }
   ],
   "source": [
    "linear_regressor2.intercept_"
   ]
  },
  {
   "cell_type": "markdown",
   "metadata": {},
   "source": [
    "$\\frac{1}{C} = 0.00257891$ so $C = \\frac{1}{0.00257891} = 387.760720615$ bytes per sec\n",
    "\n",
    "$L = 5.28983257$ ms"
   ]
  },
  {
   "cell_type": "markdown",
   "metadata": {},
   "source": [
    "We can see that the capacity was divided by 10 and the latency is higher for the second part of the data. So when the packets are bigger, the performances decrease."
   ]
  },
  {
   "cell_type": "markdown",
   "metadata": {},
   "source": [
    "### Linear regression data 1 with statsmodels"
   ]
  },
  {
   "cell_type": "code",
   "execution_count": 442,
   "metadata": {},
   "outputs": [
    {
     "data": {
      "text/html": [
       "<table class=\"simpletable\">\n",
       "<caption>OLS Regression Results</caption>\n",
       "<tr>\n",
       "  <th>Dep. Variable:</th>    <td>transmission_time</td> <th>  R-squared:         </th>  <td>   0.000</td>  \n",
       "</tr>\n",
       "<tr>\n",
       "  <th>Model:</th>                   <td>OLS</td>        <th>  Adj. R-squared:    </th>  <td>   0.000</td>  \n",
       "</tr>\n",
       "<tr>\n",
       "  <th>Method:</th>             <td>Least Squares</td>   <th>  F-statistic:       </th>  <td>   14.75</td>  \n",
       "</tr>\n",
       "<tr>\n",
       "  <th>Date:</th>             <td>Sat, 11 Jan 2020</td>  <th>  Prob (F-statistic):</th>  <td>0.000123</td>  \n",
       "</tr>\n",
       "<tr>\n",
       "  <th>Time:</th>                 <td>17:55:31</td>      <th>  Log-Likelihood:    </th> <td>-1.0715e+05</td>\n",
       "</tr>\n",
       "<tr>\n",
       "  <th>No. Observations:</th>      <td> 32667</td>       <th>  AIC:               </th>  <td>2.143e+05</td> \n",
       "</tr>\n",
       "<tr>\n",
       "  <th>Df Residuals:</th>          <td> 32665</td>       <th>  BIC:               </th>  <td>2.143e+05</td> \n",
       "</tr>\n",
       "<tr>\n",
       "  <th>Df Model:</th>              <td>     1</td>       <th>                     </th>      <td> </td>     \n",
       "</tr>\n",
       "<tr>\n",
       "  <th>Covariance Type:</th>      <td>nonrobust</td>     <th>                     </th>      <td> </td>     \n",
       "</tr>\n",
       "</table>\n",
       "<table class=\"simpletable\">\n",
       "<tr>\n",
       "    <td></td>       <th>coef</th>     <th>std err</th>      <th>t</th>      <th>P>|t|</th>  <th>[0.025</th>    <th>0.975]</th>  \n",
       "</tr>\n",
       "<tr>\n",
       "  <th>x1</th>    <td>    0.0003</td> <td>  8.5e-05</td> <td>    3.841</td> <td> 0.000</td> <td>    0.000</td> <td>    0.000</td>\n",
       "</tr>\n",
       "<tr>\n",
       "  <th>const</th> <td>    3.2757</td> <td>    0.072</td> <td>   45.301</td> <td> 0.000</td> <td>    3.134</td> <td>    3.417</td>\n",
       "</tr>\n",
       "</table>\n",
       "<table class=\"simpletable\">\n",
       "<tr>\n",
       "  <th>Omnibus:</th>       <td>41906.256</td> <th>  Durbin-Watson:     </th>   <td>   0.637</td>  \n",
       "</tr>\n",
       "<tr>\n",
       "  <th>Prob(Omnibus):</th>  <td> 0.000</td>   <th>  Jarque-Bera (JB):  </th> <td>31002700.511</td>\n",
       "</tr>\n",
       "<tr>\n",
       "  <th>Skew:</th>           <td> 6.581</td>   <th>  Prob(JB):          </th>   <td>    0.00</td>  \n",
       "</tr>\n",
       "<tr>\n",
       "  <th>Kurtosis:</th>       <td>153.346</td>  <th>  Cond. No.          </th>   <td>1.73e+03</td>  \n",
       "</tr>\n",
       "</table><br/><br/>Warnings:<br/>[1] Standard Errors assume that the covariance matrix of the errors is correctly specified.<br/>[2] The condition number is large, 1.73e+03. This might indicate that there are<br/>strong multicollinearity or other numerical problems."
      ],
      "text/plain": [
       "<class 'statsmodels.iolib.summary.Summary'>\n",
       "\"\"\"\n",
       "                            OLS Regression Results                            \n",
       "==============================================================================\n",
       "Dep. Variable:      transmission_time   R-squared:                       0.000\n",
       "Model:                            OLS   Adj. R-squared:                  0.000\n",
       "Method:                 Least Squares   F-statistic:                     14.75\n",
       "Date:                Sat, 11 Jan 2020   Prob (F-statistic):           0.000123\n",
       "Time:                        17:55:31   Log-Likelihood:            -1.0715e+05\n",
       "No. Observations:               32667   AIC:                         2.143e+05\n",
       "Df Residuals:                   32665   BIC:                         2.143e+05\n",
       "Df Model:                           1                                         \n",
       "Covariance Type:            nonrobust                                         \n",
       "==============================================================================\n",
       "                 coef    std err          t      P>|t|      [0.025      0.975]\n",
       "------------------------------------------------------------------------------\n",
       "x1             0.0003    8.5e-05      3.841      0.000       0.000       0.000\n",
       "const          3.2757      0.072     45.301      0.000       3.134       3.417\n",
       "==============================================================================\n",
       "Omnibus:                    41906.256   Durbin-Watson:                   0.637\n",
       "Prob(Omnibus):                  0.000   Jarque-Bera (JB):         31002700.511\n",
       "Skew:                           6.581   Prob(JB):                         0.00\n",
       "Kurtosis:                     153.346   Cond. No.                     1.73e+03\n",
       "==============================================================================\n",
       "\n",
       "Warnings:\n",
       "[1] Standard Errors assume that the covariance matrix of the errors is correctly specified.\n",
       "[2] The condition number is large, 1.73e+03. This might indicate that there are\n",
       "strong multicollinearity or other numerical problems.\n",
       "\"\"\""
      ]
     },
     "execution_count": 442,
     "metadata": {},
     "output_type": "execute_result"
    }
   ],
   "source": [
    "X = data_1['bytes']\n",
    "X = np.vander(X, 2)\n",
    "y = data_1['transmission_time']\n",
    "model = sm.OLS(y, X)\n",
    "results = model.fit()\n",
    "results.summary()"
   ]
  },
  {
   "cell_type": "markdown",
   "metadata": {},
   "source": [
    "The linear regression with statsmodels doesn't include an intercept by default like scikit-learn does. Without the line \"np.vander(X,2)\", we would obtain only the slope of the line but we do not want that. That is why we use numpy.vander."
   ]
  },
  {
   "cell_type": "markdown",
   "metadata": {},
   "source": [
    "### Linear regression data 2 with statsmodels"
   ]
  },
  {
   "cell_type": "code",
   "execution_count": 443,
   "metadata": {},
   "outputs": [
    {
     "data": {
      "text/html": [
       "<table class=\"simpletable\">\n",
       "<caption>OLS Regression Results</caption>\n",
       "<tr>\n",
       "  <th>Dep. Variable:</th>    <td>transmission_time</td> <th>  R-squared:         </th> <td>   0.000</td> \n",
       "</tr>\n",
       "<tr>\n",
       "  <th>Model:</th>                   <td>OLS</td>        <th>  Adj. R-squared:    </th> <td>   0.000</td> \n",
       "</tr>\n",
       "<tr>\n",
       "  <th>Method:</th>             <td>Least Squares</td>   <th>  F-statistic:       </th> <td>   4.050</td> \n",
       "</tr>\n",
       "<tr>\n",
       "  <th>Date:</th>             <td>Sat, 11 Jan 2020</td>  <th>  Prob (F-statistic):</th>  <td>0.0442</td>  \n",
       "</tr>\n",
       "<tr>\n",
       "  <th>Time:</th>                 <td>17:55:31</td>      <th>  Log-Likelihood:    </th> <td> -50605.</td> \n",
       "</tr>\n",
       "<tr>\n",
       "  <th>No. Observations:</th>      <td> 11369</td>       <th>  AIC:               </th> <td>1.012e+05</td>\n",
       "</tr>\n",
       "<tr>\n",
       "  <th>Df Residuals:</th>          <td> 11367</td>       <th>  BIC:               </th> <td>1.012e+05</td>\n",
       "</tr>\n",
       "<tr>\n",
       "  <th>Df Model:</th>              <td>     1</td>       <th>                     </th>     <td> </td>    \n",
       "</tr>\n",
       "<tr>\n",
       "  <th>Covariance Type:</th>      <td>nonrobust</td>     <th>                     </th>     <td> </td>    \n",
       "</tr>\n",
       "</table>\n",
       "<table class=\"simpletable\">\n",
       "<tr>\n",
       "    <td></td>       <th>coef</th>     <th>std err</th>      <th>t</th>      <th>P>|t|</th>  <th>[0.025</th>    <th>0.975]</th>  \n",
       "</tr>\n",
       "<tr>\n",
       "  <th>x1</th>    <td>    0.0026</td> <td>    0.001</td> <td>    2.012</td> <td> 0.044</td> <td>  6.7e-05</td> <td>    0.005</td>\n",
       "</tr>\n",
       "<tr>\n",
       "  <th>const</th> <td>    5.2898</td> <td>    2.244</td> <td>    2.357</td> <td> 0.018</td> <td>    0.891</td> <td>    9.689</td>\n",
       "</tr>\n",
       "</table>\n",
       "<table class=\"simpletable\">\n",
       "<tr>\n",
       "  <th>Omnibus:</th>       <td>6230.343</td> <th>  Durbin-Watson:     </th> <td>   0.677</td> \n",
       "</tr>\n",
       "<tr>\n",
       "  <th>Prob(Omnibus):</th>  <td> 0.000</td>  <th>  Jarque-Bera (JB):  </th> <td>33724.913</td>\n",
       "</tr>\n",
       "<tr>\n",
       "  <th>Skew:</th>           <td> 2.764</td>  <th>  Prob(JB):          </th> <td>    0.00</td> \n",
       "</tr>\n",
       "<tr>\n",
       "  <th>Kurtosis:</th>       <td> 9.374</td>  <th>  Cond. No.          </th> <td>2.02e+04</td> \n",
       "</tr>\n",
       "</table><br/><br/>Warnings:<br/>[1] Standard Errors assume that the covariance matrix of the errors is correctly specified.<br/>[2] The condition number is large, 2.02e+04. This might indicate that there are<br/>strong multicollinearity or other numerical problems."
      ],
      "text/plain": [
       "<class 'statsmodels.iolib.summary.Summary'>\n",
       "\"\"\"\n",
       "                            OLS Regression Results                            \n",
       "==============================================================================\n",
       "Dep. Variable:      transmission_time   R-squared:                       0.000\n",
       "Model:                            OLS   Adj. R-squared:                  0.000\n",
       "Method:                 Least Squares   F-statistic:                     4.050\n",
       "Date:                Sat, 11 Jan 2020   Prob (F-statistic):             0.0442\n",
       "Time:                        17:55:31   Log-Likelihood:                -50605.\n",
       "No. Observations:               11369   AIC:                         1.012e+05\n",
       "Df Residuals:                   11367   BIC:                         1.012e+05\n",
       "Df Model:                           1                                         \n",
       "Covariance Type:            nonrobust                                         \n",
       "==============================================================================\n",
       "                 coef    std err          t      P>|t|      [0.025      0.975]\n",
       "------------------------------------------------------------------------------\n",
       "x1             0.0026      0.001      2.012      0.044     6.7e-05       0.005\n",
       "const          5.2898      2.244      2.357      0.018       0.891       9.689\n",
       "==============================================================================\n",
       "Omnibus:                     6230.343   Durbin-Watson:                   0.677\n",
       "Prob(Omnibus):                  0.000   Jarque-Bera (JB):            33724.913\n",
       "Skew:                           2.764   Prob(JB):                         0.00\n",
       "Kurtosis:                       9.374   Cond. No.                     2.02e+04\n",
       "==============================================================================\n",
       "\n",
       "Warnings:\n",
       "[1] Standard Errors assume that the covariance matrix of the errors is correctly specified.\n",
       "[2] The condition number is large, 2.02e+04. This might indicate that there are\n",
       "strong multicollinearity or other numerical problems.\n",
       "\"\"\""
      ]
     },
     "execution_count": 443,
     "metadata": {},
     "output_type": "execute_result"
    }
   ],
   "source": [
    "X2 = data_2['bytes']\n",
    "X2 = np.vander(X2, 2)\n",
    "y2 = data_2['transmission_time']\n",
    "model2 = sm.OLS(y2, X2)\n",
    "results2 = model2.fit()\n",
    "results2.summary()"
   ]
  },
  {
   "cell_type": "markdown",
   "metadata": {},
   "source": [
    "I have done the linear regression with two different technics. At the end we see that we have more or less the same coefficients (x1 coef $= a$ and const coef $= b$ in $ax+b$ for statsmodels). However, we can display more information with statsmodels and we can clearly see that $R^2$ is equal to zero for the two parts of the data, so the linear regression is irrelevant."
   ]
  },
  {
   "cell_type": "markdown",
   "metadata": {},
   "source": [
    "### <u>Question 4/</u>"
   ]
  },
  {
   "cell_type": "markdown",
   "metadata": {},
   "source": [
    "Quantile regression is less sensitive to outliers."
   ]
  },
  {
   "cell_type": "markdown",
   "metadata": {},
   "source": [
    "### Quantile regression with statsmodels for data 1"
   ]
  },
  {
   "cell_type": "code",
   "execution_count": 444,
   "metadata": {},
   "outputs": [
    {
     "data": {
      "text/html": [
       "<table class=\"simpletable\">\n",
       "<caption>QuantReg Regression Results</caption>\n",
       "<tr>\n",
       "  <th>Dep. Variable:</th> <td>transmission_time</td> <th>  Pseudo R-squared:  </th> <td> 0.01608</td>\n",
       "</tr>\n",
       "<tr>\n",
       "  <th>Model:</th>             <td>QuantReg</td>      <th>  Bandwidth:         </th> <td> 0.01690</td>\n",
       "</tr>\n",
       "<tr>\n",
       "  <th>Method:</th>          <td>Least Squares</td>   <th>  Sparsity:          </th> <td>  0.2208</td>\n",
       "</tr>\n",
       "<tr>\n",
       "  <th>Date:</th>          <td>Sat, 11 Jan 2020</td>  <th>  No. Observations:  </th>  <td> 32667</td> \n",
       "</tr>\n",
       "<tr>\n",
       "  <th>Time:</th>              <td>17:55:31</td>      <th>  Df Residuals:      </th>  <td> 32665</td> \n",
       "</tr>\n",
       "<tr>\n",
       "  <th> </th>                      <td> </td>         <th>  Df Model:          </th>  <td>     1</td> \n",
       "</tr>\n",
       "</table>\n",
       "<table class=\"simpletable\">\n",
       "<tr>\n",
       "      <td></td>         <th>coef</th>     <th>std err</th>      <th>t</th>      <th>P>|t|</th>  <th>[0.025</th>    <th>0.975]</th>  \n",
       "</tr>\n",
       "<tr>\n",
       "  <th>Intercept</th> <td>    1.1391</td> <td>    0.001</td> <td>  917.622</td> <td> 0.000</td> <td>    1.137</td> <td>    1.142</td>\n",
       "</tr>\n",
       "<tr>\n",
       "  <th>bytes</th>     <td>    0.0002</td> <td> 1.46e-06</td> <td>  169.697</td> <td> 0.000</td> <td>    0.000</td> <td>    0.000</td>\n",
       "</tr>\n",
       "</table><br/><br/>The condition number is large, 1.73e+03. This might indicate that there are<br/>strong multicollinearity or other numerical problems."
      ],
      "text/plain": [
       "<class 'statsmodels.iolib.summary.Summary'>\n",
       "\"\"\"\n",
       "                         QuantReg Regression Results                          \n",
       "==============================================================================\n",
       "Dep. Variable:      transmission_time   Pseudo R-squared:              0.01608\n",
       "Model:                       QuantReg   Bandwidth:                     0.01690\n",
       "Method:                 Least Squares   Sparsity:                       0.2208\n",
       "Date:                Sat, 11 Jan 2020   No. Observations:                32667\n",
       "Time:                        17:55:31   Df Residuals:                    32665\n",
       "                                        Df Model:                            1\n",
       "==============================================================================\n",
       "                 coef    std err          t      P>|t|      [0.025      0.975]\n",
       "------------------------------------------------------------------------------\n",
       "Intercept      1.1391      0.001    917.622      0.000       1.137       1.142\n",
       "bytes          0.0002   1.46e-06    169.697      0.000       0.000       0.000\n",
       "==============================================================================\n",
       "\n",
       "The condition number is large, 1.73e+03. This might indicate that there are\n",
       "strong multicollinearity or other numerical problems.\n",
       "\"\"\""
      ]
     },
     "execution_count": 444,
     "metadata": {},
     "output_type": "execute_result"
    }
   ],
   "source": [
    "mod = smf.quantreg('transmission_time ~ bytes', data_1)\n",
    "res = mod.fit(q=.5)\n",
    "res.summary()"
   ]
  },
  {
   "cell_type": "code",
   "execution_count": 445,
   "metadata": {},
   "outputs": [
    {
     "data": {
      "text/plain": [
       "[<matplotlib.lines.Line2D at 0x7fb7b25f5a60>]"
      ]
     },
     "execution_count": 445,
     "metadata": {},
     "output_type": "execute_result"
    },
    {
     "data": {
      "image/png": "[encoded data removed]",
      "text/plain": [
       "<Figure size 432x288 with 1 Axes>"
      ]
     },
     "metadata": {
      "needs_background": "light"
     },
     "output_type": "display_data"
    }
   ],
   "source": [
    "data_1.plot(x='bytes', y='transmission_time', title=\"Evolution of transmission time according to the size of packets\", style='.')\n",
    "calculate_y_quantile = lambda a, b: a * data_1['bytes'] + b\n",
    "y_quantile = calculate_y_quantile(0.0002, 1.1391)\n",
    "plt.plot(data_1['bytes'], y_quantile, color='red')"
   ]
  },
  {
   "cell_type": "markdown",
   "metadata": {},
   "source": [
    "### Quantile regression with statsmodels for data 2"
   ]
  },
  {
   "cell_type": "code",
   "execution_count": 446,
   "metadata": {},
   "outputs": [
    {
     "data": {
      "text/html": [
       "<table class=\"simpletable\">\n",
       "<caption>QuantReg Regression Results</caption>\n",
       "<tr>\n",
       "  <th>Dep. Variable:</th> <td>transmission_time</td> <th>  Pseudo R-squared:  </th> <td>0.0006425</td>\n",
       "</tr>\n",
       "<tr>\n",
       "  <th>Model:</th>             <td>QuantReg</td>      <th>  Bandwidth:         </th> <td> 0.02975</td> \n",
       "</tr>\n",
       "<tr>\n",
       "  <th>Method:</th>          <td>Least Squares</td>   <th>  Sparsity:          </th> <td>  0.2717</td> \n",
       "</tr>\n",
       "<tr>\n",
       "  <th>Date:</th>          <td>Sat, 11 Jan 2020</td>  <th>  No. Observations:  </th>  <td> 11369</td>  \n",
       "</tr>\n",
       "<tr>\n",
       "  <th>Time:</th>              <td>17:55:31</td>      <th>  Df Residuals:      </th>  <td> 11367</td>  \n",
       "</tr>\n",
       "<tr>\n",
       "  <th> </th>                      <td> </td>         <th>  Df Model:          </th>  <td>     1</td>  \n",
       "</tr>\n",
       "</table>\n",
       "<table class=\"simpletable\">\n",
       "<tr>\n",
       "      <td></td>         <th>coef</th>     <th>std err</th>      <th>t</th>      <th>P>|t|</th>  <th>[0.025</th>    <th>0.975]</th>  \n",
       "</tr>\n",
       "<tr>\n",
       "  <th>Intercept</th> <td>    1.8857</td> <td>    0.015</td> <td>  128.324</td> <td> 0.000</td> <td>    1.857</td> <td>    1.915</td>\n",
       "</tr>\n",
       "<tr>\n",
       "  <th>bytes</th>     <td>    0.0002</td> <td> 8.39e-06</td> <td>   29.366</td> <td> 0.000</td> <td>    0.000</td> <td>    0.000</td>\n",
       "</tr>\n",
       "</table><br/><br/>The condition number is large, 2.02e+04. This might indicate that there are<br/>strong multicollinearity or other numerical problems."
      ],
      "text/plain": [
       "<class 'statsmodels.iolib.summary.Summary'>\n",
       "\"\"\"\n",
       "                         QuantReg Regression Results                          \n",
       "==============================================================================\n",
       "Dep. Variable:      transmission_time   Pseudo R-squared:            0.0006425\n",
       "Model:                       QuantReg   Bandwidth:                     0.02975\n",
       "Method:                 Least Squares   Sparsity:                       0.2717\n",
       "Date:                Sat, 11 Jan 2020   No. Observations:                11369\n",
       "Time:                        17:55:31   Df Residuals:                    11367\n",
       "                                        Df Model:                            1\n",
       "==============================================================================\n",
       "                 coef    std err          t      P>|t|      [0.025      0.975]\n",
       "------------------------------------------------------------------------------\n",
       "Intercept      1.8857      0.015    128.324      0.000       1.857       1.915\n",
       "bytes          0.0002   8.39e-06     29.366      0.000       0.000       0.000\n",
       "==============================================================================\n",
       "\n",
       "The condition number is large, 2.02e+04. This might indicate that there are\n",
       "strong multicollinearity or other numerical problems.\n",
       "\"\"\""
      ]
     },
     "execution_count": 446,
     "metadata": {},
     "output_type": "execute_result"
    }
   ],
   "source": [
    "mod2 = smf.quantreg('transmission_time ~ bytes', data_2)\n",
    "res2 = mod2.fit(q=.5)\n",
    "res2.summary()"
   ]
  },
  {
   "cell_type": "code",
   "execution_count": 447,
   "metadata": {},
   "outputs": [
    {
     "data": {
      "text/plain": [
       "[<matplotlib.lines.Line2D at 0x7fb7b24a1cd0>]"
      ]
     },
     "execution_count": 447,
     "metadata": {},
     "output_type": "execute_result"
    },
    {
     "data": {
      "image/png": "[encoded data removed]",
      "text/plain": [
       "<Figure size 432x288 with 1 Axes>"
      ]
     },
     "metadata": {
      "needs_background": "light"
     },
     "output_type": "display_data"
    }
   ],
   "source": [
    "data_2.plot(x='bytes', y='transmission_time', title=\"Evolution of transmission time according to the size of packets\", style='.')\n",
    "calculate_y2_quantile = lambda a, b: a * data_2['bytes'] + b\n",
    "y2_quantile = calculate_y2_quantile(0.0002, 1.8843)\n",
    "plt.plot(data_2['bytes'], y2_quantile, color='red')"
   ]
  },
  {
   "cell_type": "markdown",
   "metadata": {},
   "source": [
    "The intercept is lower in both data set 1 and 2 with the quantile regression method. This method is based on the median (I choose $q=0.5$), we have then a more precise regression."
   ]
  },
  {
   "cell_type": "markdown",
   "metadata": {},
   "source": [
    "### Other method : smallest transmission times"
   ]
  },
  {
   "cell_type": "markdown",
   "metadata": {},
   "source": [
    "### Linear regression on data_1"
   ]
  },
  {
   "cell_type": "code",
   "execution_count": 448,
   "metadata": {},
   "outputs": [],
   "source": [
    "dic = {}\n",
    "for index, row in data_1.iterrows():\n",
    "    if row['bytes'] not in dic:\n",
    "        dic[row['bytes']] = [row['transmission_time']]\n",
    "    else:\n",
    "        dic[row['bytes']].append(row['transmission_time'])\n",
    "\n",
    "for key, value in dic.items():\n",
    "    dic[key] = min(value)\n",
    "\n",
    "x_bytes = dic.keys()\n",
    "x_bytes = [int(i) for i in x_bytes]\n",
    "y_min_time = dic.values()\n",
    "y_min_time = [float(j) for j in y_min_time]"
   ]
  },
  {
   "cell_type": "code",
   "execution_count": 449,
   "metadata": {},
   "outputs": [
    {
     "data": {
      "text/html": [
       "<table class=\"simpletable\">\n",
       "<caption>OLS Regression Results</caption>\n",
       "<tr>\n",
       "  <th>Dep. Variable:</th>            <td>y</td>        <th>  R-squared:         </th> <td>   0.940</td> \n",
       "</tr>\n",
       "<tr>\n",
       "  <th>Model:</th>                   <td>OLS</td>       <th>  Adj. R-squared:    </th> <td>   0.940</td> \n",
       "</tr>\n",
       "<tr>\n",
       "  <th>Method:</th>             <td>Least Squares</td>  <th>  F-statistic:       </th> <td>2.285e+04</td>\n",
       "</tr>\n",
       "<tr>\n",
       "  <th>Date:</th>             <td>Sat, 11 Jan 2020</td> <th>  Prob (F-statistic):</th>  <td>  0.00</td>  \n",
       "</tr>\n",
       "<tr>\n",
       "  <th>Time:</th>                 <td>17:55:33</td>     <th>  Log-Likelihood:    </th> <td>  3297.7</td> \n",
       "</tr>\n",
       "<tr>\n",
       "  <th>No. Observations:</th>      <td>  1457</td>      <th>  AIC:               </th> <td>  -6591.</td> \n",
       "</tr>\n",
       "<tr>\n",
       "  <th>Df Residuals:</th>          <td>  1455</td>      <th>  BIC:               </th> <td>  -6581.</td> \n",
       "</tr>\n",
       "<tr>\n",
       "  <th>Df Model:</th>              <td>     1</td>      <th>                     </th>     <td> </td>    \n",
       "</tr>\n",
       "<tr>\n",
       "  <th>Covariance Type:</th>      <td>nonrobust</td>    <th>                     </th>     <td> </td>    \n",
       "</tr>\n",
       "</table>\n",
       "<table class=\"simpletable\">\n",
       "<tr>\n",
       "    <td></td>       <th>coef</th>     <th>std err</th>      <th>t</th>      <th>P>|t|</th>  <th>[0.025</th>    <th>0.975]</th>  \n",
       "</tr>\n",
       "<tr>\n",
       "  <th>x1</th>    <td>    0.0002</td> <td> 1.57e-06</td> <td>  151.152</td> <td> 0.000</td> <td>    0.000</td> <td>    0.000</td>\n",
       "</tr>\n",
       "<tr>\n",
       "  <th>const</th> <td>    1.0334</td> <td>    0.001</td> <td>  764.634</td> <td> 0.000</td> <td>    1.031</td> <td>    1.036</td>\n",
       "</tr>\n",
       "</table>\n",
       "<table class=\"simpletable\">\n",
       "<tr>\n",
       "  <th>Omnibus:</th>       <td>26.475</td> <th>  Durbin-Watson:     </th> <td>   1.887</td>\n",
       "</tr>\n",
       "<tr>\n",
       "  <th>Prob(Omnibus):</th> <td> 0.000</td> <th>  Jarque-Bera (JB):  </th> <td>  39.695</td>\n",
       "</tr>\n",
       "<tr>\n",
       "  <th>Skew:</th>          <td>-0.177</td> <th>  Prob(JB):          </th> <td>2.40e-09</td>\n",
       "</tr>\n",
       "<tr>\n",
       "  <th>Kurtosis:</th>      <td> 3.727</td> <th>  Cond. No.          </th> <td>1.77e+03</td>\n",
       "</tr>\n",
       "</table><br/><br/>Warnings:<br/>[1] Standard Errors assume that the covariance matrix of the errors is correctly specified.<br/>[2] The condition number is large, 1.77e+03. This might indicate that there are<br/>strong multicollinearity or other numerical problems."
      ],
      "text/plain": [
       "<class 'statsmodels.iolib.summary.Summary'>\n",
       "\"\"\"\n",
       "                            OLS Regression Results                            \n",
       "==============================================================================\n",
       "Dep. Variable:                      y   R-squared:                       0.940\n",
       "Model:                            OLS   Adj. R-squared:                  0.940\n",
       "Method:                 Least Squares   F-statistic:                 2.285e+04\n",
       "Date:                Sat, 11 Jan 2020   Prob (F-statistic):               0.00\n",
       "Time:                        17:55:33   Log-Likelihood:                 3297.7\n",
       "No. Observations:                1457   AIC:                            -6591.\n",
       "Df Residuals:                    1455   BIC:                            -6581.\n",
       "Df Model:                           1                                         \n",
       "Covariance Type:            nonrobust                                         \n",
       "==============================================================================\n",
       "                 coef    std err          t      P>|t|      [0.025      0.975]\n",
       "------------------------------------------------------------------------------\n",
       "x1             0.0002   1.57e-06    151.152      0.000       0.000       0.000\n",
       "const          1.0334      0.001    764.634      0.000       1.031       1.036\n",
       "==============================================================================\n",
       "Omnibus:                       26.475   Durbin-Watson:                   1.887\n",
       "Prob(Omnibus):                  0.000   Jarque-Bera (JB):               39.695\n",
       "Skew:                          -0.177   Prob(JB):                     2.40e-09\n",
       "Kurtosis:                       3.727   Cond. No.                     1.77e+03\n",
       "==============================================================================\n",
       "\n",
       "Warnings:\n",
       "[1] Standard Errors assume that the covariance matrix of the errors is correctly specified.\n",
       "[2] The condition number is large, 1.77e+03. This might indicate that there are\n",
       "strong multicollinearity or other numerical problems.\n",
       "\"\"\""
      ]
     },
     "execution_count": 449,
     "metadata": {},
     "output_type": "execute_result"
    }
   ],
   "source": [
    "X_reg = x_bytes\n",
    "X_reg = np.vander(X_reg, 2)\n",
    "y_reg = y_min_time\n",
    "model_reg = sm.OLS(y_reg, X_reg)\n",
    "results_reg = model_reg.fit()\n",
    "results_reg.summary()"
   ]
  },
  {
   "cell_type": "code",
   "execution_count": 450,
   "metadata": {},
   "outputs": [
    {
     "data": {
      "text/plain": [
       "[<matplotlib.lines.Line2D at 0x7fb7b23db6d0>]"
      ]
     },
     "execution_count": 450,
     "metadata": {},
     "output_type": "execute_result"
    },
    {
     "data": {
      "image/png": "[encoded data removed]",
      "text/plain": [
       "<Figure size 432x288 with 1 Axes>"
      ]
     },
     "metadata": {
      "needs_background": "light"
     },
     "output_type": "display_data"
    }
   ],
   "source": [
    "plt.scatter(x_bytes, y_min_time)\n",
    "y_linear_reg = []\n",
    "for x in x_bytes:\n",
    "    y_linear_reg.append(0.0002 * x + 1.0334)\n",
    "plt.plot(x_bytes, y_linear_reg, color='red')"
   ]
  },
  {
   "cell_type": "markdown",
   "metadata": {},
   "source": [
    "### Linear regression on data_2"
   ]
  },
  {
   "cell_type": "code",
   "execution_count": 451,
   "metadata": {},
   "outputs": [],
   "source": [
    "dic = {}\n",
    "for index, row in data_2.iterrows():\n",
    "    if row['bytes'] not in dic:\n",
    "        dic[row['bytes']] = [row['transmission_time']]\n",
    "    else:\n",
    "        dic[row['bytes']].append(row['transmission_time'])\n",
    "\n",
    "for key, value in dic.items():\n",
    "    dic[key] = min(value)\n",
    "\n",
    "x_bytes = dic.keys()\n",
    "x_bytes = [int(i) for i in x_bytes]\n",
    "y_min_time = dic.values()\n",
    "y_min_time = [float(j) for j in y_min_time]"
   ]
  },
  {
   "cell_type": "code",
   "execution_count": 452,
   "metadata": {},
   "outputs": [
    {
     "data": {
      "text/html": [
       "<table class=\"simpletable\">\n",
       "<caption>OLS Regression Results</caption>\n",
       "<tr>\n",
       "  <th>Dep. Variable:</th>            <td>y</td>        <th>  R-squared:         </th> <td>   0.582</td> \n",
       "</tr>\n",
       "<tr>\n",
       "  <th>Model:</th>                   <td>OLS</td>       <th>  Adj. R-squared:    </th> <td>   0.581</td> \n",
       "</tr>\n",
       "<tr>\n",
       "  <th>Method:</th>             <td>Least Squares</td>  <th>  F-statistic:       </th> <td>   730.4</td> \n",
       "</tr>\n",
       "<tr>\n",
       "  <th>Date:</th>             <td>Sat, 11 Jan 2020</td> <th>  Prob (F-statistic):</th> <td>1.86e-101</td>\n",
       "</tr>\n",
       "<tr>\n",
       "  <th>Time:</th>                 <td>17:55:34</td>     <th>  Log-Likelihood:    </th> <td>  1079.5</td> \n",
       "</tr>\n",
       "<tr>\n",
       "  <th>No. Observations:</th>      <td>   527</td>      <th>  AIC:               </th> <td>  -2155.</td> \n",
       "</tr>\n",
       "<tr>\n",
       "  <th>Df Residuals:</th>          <td>   525</td>      <th>  BIC:               </th> <td>  -2146.</td> \n",
       "</tr>\n",
       "<tr>\n",
       "  <th>Df Model:</th>              <td>     1</td>      <th>                     </th>     <td> </td>    \n",
       "</tr>\n",
       "<tr>\n",
       "  <th>Covariance Type:</th>      <td>nonrobust</td>    <th>                     </th>     <td> </td>    \n",
       "</tr>\n",
       "</table>\n",
       "<table class=\"simpletable\">\n",
       "<tr>\n",
       "    <td></td>       <th>coef</th>     <th>std err</th>      <th>t</th>      <th>P>|t|</th>  <th>[0.025</th>    <th>0.975]</th>  \n",
       "</tr>\n",
       "<tr>\n",
       "  <th>x1</th>    <td>    0.0002</td> <td> 8.95e-06</td> <td>   27.026</td> <td> 0.000</td> <td>    0.000</td> <td>    0.000</td>\n",
       "</tr>\n",
       "<tr>\n",
       "  <th>const</th> <td>    1.7432</td> <td>    0.016</td> <td>  111.250</td> <td> 0.000</td> <td>    1.712</td> <td>    1.774</td>\n",
       "</tr>\n",
       "</table>\n",
       "<table class=\"simpletable\">\n",
       "<tr>\n",
       "  <th>Omnibus:</th>       <td> 0.206</td> <th>  Durbin-Watson:     </th> <td>   1.840</td>\n",
       "</tr>\n",
       "<tr>\n",
       "  <th>Prob(Omnibus):</th> <td> 0.902</td> <th>  Jarque-Bera (JB):  </th> <td>   0.275</td>\n",
       "</tr>\n",
       "<tr>\n",
       "  <th>Skew:</th>          <td> 0.043</td> <th>  Prob(JB):          </th> <td>   0.872</td>\n",
       "</tr>\n",
       "<tr>\n",
       "  <th>Kurtosis:</th>      <td> 2.928</td> <th>  Cond. No.          </th> <td>2.01e+04</td>\n",
       "</tr>\n",
       "</table><br/><br/>Warnings:<br/>[1] Standard Errors assume that the covariance matrix of the errors is correctly specified.<br/>[2] The condition number is large, 2.01e+04. This might indicate that there are<br/>strong multicollinearity or other numerical problems."
      ],
      "text/plain": [
       "<class 'statsmodels.iolib.summary.Summary'>\n",
       "\"\"\"\n",
       "                            OLS Regression Results                            \n",
       "==============================================================================\n",
       "Dep. Variable:                      y   R-squared:                       0.582\n",
       "Model:                            OLS   Adj. R-squared:                  0.581\n",
       "Method:                 Least Squares   F-statistic:                     730.4\n",
       "Date:                Sat, 11 Jan 2020   Prob (F-statistic):          1.86e-101\n",
       "Time:                        17:55:34   Log-Likelihood:                 1079.5\n",
       "No. Observations:                 527   AIC:                            -2155.\n",
       "Df Residuals:                     525   BIC:                            -2146.\n",
       "Df Model:                           1                                         \n",
       "Covariance Type:            nonrobust                                         \n",
       "==============================================================================\n",
       "                 coef    std err          t      P>|t|      [0.025      0.975]\n",
       "------------------------------------------------------------------------------\n",
       "x1             0.0002   8.95e-06     27.026      0.000       0.000       0.000\n",
       "const          1.7432      0.016    111.250      0.000       1.712       1.774\n",
       "==============================================================================\n",
       "Omnibus:                        0.206   Durbin-Watson:                   1.840\n",
       "Prob(Omnibus):                  0.902   Jarque-Bera (JB):                0.275\n",
       "Skew:                           0.043   Prob(JB):                        0.872\n",
       "Kurtosis:                       2.928   Cond. No.                     2.01e+04\n",
       "==============================================================================\n",
       "\n",
       "Warnings:\n",
       "[1] Standard Errors assume that the covariance matrix of the errors is correctly specified.\n",
       "[2] The condition number is large, 2.01e+04. This might indicate that there are\n",
       "strong multicollinearity or other numerical problems.\n",
       "\"\"\""
      ]
     },
     "execution_count": 452,
     "metadata": {},
     "output_type": "execute_result"
    }
   ],
   "source": [
    "X_reg = x_bytes\n",
    "X_reg = np.vander(X_reg, 2)\n",
    "y_reg = y_min_time\n",
    "model_reg = sm.OLS(y_reg, X_reg)\n",
    "results_reg = model_reg.fit()\n",
    "results_reg.summary()"
   ]
  },
  {
   "cell_type": "code",
   "execution_count": 453,
   "metadata": {},
   "outputs": [
    {
     "data": {
      "text/plain": [
       "[<matplotlib.lines.Line2D at 0x7fb7b25648e0>]"
      ]
     },
     "execution_count": 453,
     "metadata": {},
     "output_type": "execute_result"
    },
    {
     "data": {
      "image/png": "[encoded data removed]",
      "text/plain": [
       "<Figure size 432x288 with 1 Axes>"
      ]
     },
     "metadata": {
      "needs_background": "light"
     },
     "output_type": "display_data"
    }
   ],
   "source": [
    "plt.scatter(x_bytes, y_min_time)\n",
    "pred = model_reg.fit().predict(X_reg)\n",
    "plt.plot(x_bytes, pred, color='red')"
   ]
  },
  {
   "cell_type": "markdown",
   "metadata": {},
   "source": [
    "To plot the red line, I tried a different method which is finally simplier. I do not know why but when I tried my previous method (when I calculate the for loop for each point of the red line), it plots the previous red line (previous vector still in memory?)."
   ]
  },
  {
   "cell_type": "markdown",
   "metadata": {},
   "source": [
    "When we select the smallest transmission time for each byte, we can clearly see that when the number of bytes increases, the transmission time also increases linearly. Now the linear regression is more relevant."
   ]
  },
  {
   "cell_type": "markdown",
   "metadata": {},
   "source": [
    " "
   ]
  },
  {
   "cell_type": "markdown",
   "metadata": {},
   "source": [
    " "
   ]
  },
  {
   "cell_type": "markdown",
   "metadata": {},
   "source": [
    "## SECOND DATA SET"
   ]
  },
  {
   "cell_type": "code",
   "execution_count": 454,
   "metadata": {},
   "outputs": [],
   "source": [
    "url = 'http://mescal.imag.fr/membres/arnaud.legrand/teaching/2014/RICM4_EP_ping/stackoverflow.log.gz'\n",
    "urllib.request.urlretrieve(url, '/tmp/stackoverflow.log.gz')\n",
    "os.system('gunzip /tmp/stackoverflow.log.gz')\n",
    "os.system('sed -e \"s/\\[/ /\"  -e \"s/]/,/\" -e \"s/bytes.*time=/,/\" -e \"s/ms/ /\" /tmp/stackoverflow.log > /tmp/ping_stackoverflow.log')\n",
    "raw_data_bis = pd.read_table(\"/tmp/ping_stackoverflow.log\", header=None, sep=',', engine='python')"
   ]
  },
  {
   "cell_type": "code",
   "execution_count": 455,
   "metadata": {},
   "outputs": [
    {
     "data": {
      "text/html": [
       "<div>\n",
       "<style scoped>\n",
       "    .dataframe tbody tr th:only-of-type {\n",
       "        vertical-align: middle;\n",
       "    }\n",
       "\n",
       "    .dataframe tbody tr th {\n",
       "        vertical-align: top;\n",
       "    }\n",
       "\n",
       "    .dataframe thead th {\n",
       "        text-align: right;\n",
       "    }\n",
       "</style>\n",
       "<table border=\"1\" class=\"dataframe\">\n",
       "  <thead>\n",
       "    <tr style=\"text-align: right;\">\n",
       "      <th></th>\n",
       "      <th>time</th>\n",
       "      <th>bytes</th>\n",
       "      <th>transmission_time</th>\n",
       "    </tr>\n",
       "  </thead>\n",
       "  <tbody>\n",
       "    <tr>\n",
       "      <th>0</th>\n",
       "      <td>1.421771e+09</td>\n",
       "      <td>1257</td>\n",
       "      <td>120.0</td>\n",
       "    </tr>\n",
       "    <tr>\n",
       "      <th>1</th>\n",
       "      <td>1.421771e+09</td>\n",
       "      <td>454</td>\n",
       "      <td>120.0</td>\n",
       "    </tr>\n",
       "    <tr>\n",
       "      <th>2</th>\n",
       "      <td>1.421771e+09</td>\n",
       "      <td>775</td>\n",
       "      <td>126.0</td>\n",
       "    </tr>\n",
       "    <tr>\n",
       "      <th>3</th>\n",
       "      <td>1.421771e+09</td>\n",
       "      <td>1334</td>\n",
       "      <td>112.0</td>\n",
       "    </tr>\n",
       "    <tr>\n",
       "      <th>4</th>\n",
       "      <td>1.421771e+09</td>\n",
       "      <td>83</td>\n",
       "      <td>111.0</td>\n",
       "    </tr>\n",
       "    <tr>\n",
       "      <th>...</th>\n",
       "      <td>...</td>\n",
       "      <td>...</td>\n",
       "      <td>...</td>\n",
       "    </tr>\n",
       "    <tr>\n",
       "      <th>6882</th>\n",
       "      <td>1.421773e+09</td>\n",
       "      <td>1696</td>\n",
       "      <td>111.0</td>\n",
       "    </tr>\n",
       "    <tr>\n",
       "      <th>6883</th>\n",
       "      <td>1.421773e+09</td>\n",
       "      <td>561</td>\n",
       "      <td>111.0</td>\n",
       "    </tr>\n",
       "    <tr>\n",
       "      <th>6884</th>\n",
       "      <td>1.421773e+09</td>\n",
       "      <td>773</td>\n",
       "      <td>111.0</td>\n",
       "    </tr>\n",
       "    <tr>\n",
       "      <th>6885</th>\n",
       "      <td>1.421773e+09</td>\n",
       "      <td>1009</td>\n",
       "      <td>111.0</td>\n",
       "    </tr>\n",
       "    <tr>\n",
       "      <th>6886</th>\n",
       "      <td>1.421773e+09</td>\n",
       "      <td>1948</td>\n",
       "      <td>112.0</td>\n",
       "    </tr>\n",
       "  </tbody>\n",
       "</table>\n",
       "<p>6887 rows × 3 columns</p>\n",
       "</div>"
      ],
      "text/plain": [
       "              time   bytes  transmission_time\n",
       "0     1.421771e+09   1257               120.0\n",
       "1     1.421771e+09    454               120.0\n",
       "2     1.421771e+09    775               126.0\n",
       "3     1.421771e+09   1334               112.0\n",
       "4     1.421771e+09     83               111.0\n",
       "...            ...     ...                ...\n",
       "6882  1.421773e+09   1696               111.0\n",
       "6883  1.421773e+09    561               111.0\n",
       "6884  1.421773e+09    773               111.0\n",
       "6885  1.421773e+09   1009               111.0\n",
       "6886  1.421773e+09   1948               112.0\n",
       "\n",
       "[6887 rows x 3 columns]"
      ]
     },
     "execution_count": 455,
     "metadata": {},
     "output_type": "execute_result"
    }
   ],
   "source": [
    "raw_data_bis.columns = ['time', 'bytes', 'transmission_time']\n",
    "raw_data_bis"
   ]
  },
  {
   "cell_type": "markdown",
   "metadata": {},
   "source": [
    "Missing data?"
   ]
  },
  {
   "cell_type": "code",
   "execution_count": 456,
   "metadata": {},
   "outputs": [
    {
     "data": {
      "text/html": [
       "<div>\n",
       "<style scoped>\n",
       "    .dataframe tbody tr th:only-of-type {\n",
       "        vertical-align: middle;\n",
       "    }\n",
       "\n",
       "    .dataframe tbody tr th {\n",
       "        vertical-align: top;\n",
       "    }\n",
       "\n",
       "    .dataframe thead th {\n",
       "        text-align: right;\n",
       "    }\n",
       "</style>\n",
       "<table border=\"1\" class=\"dataframe\">\n",
       "  <thead>\n",
       "    <tr style=\"text-align: right;\">\n",
       "      <th></th>\n",
       "      <th>time</th>\n",
       "      <th>bytes</th>\n",
       "      <th>transmission_time</th>\n",
       "    </tr>\n",
       "  </thead>\n",
       "  <tbody>\n",
       "    <tr>\n",
       "      <th>56</th>\n",
       "      <td>1.421771e+09</td>\n",
       "      <td>12 bytes from stackoverflow.com (198.252.206....</td>\n",
       "      <td>NaN</td>\n",
       "    </tr>\n",
       "    <tr>\n",
       "      <th>136</th>\n",
       "      <td>1.421771e+09</td>\n",
       "      <td>22 bytes from stackoverflow.com (198.252.206....</td>\n",
       "      <td>NaN</td>\n",
       "    </tr>\n",
       "    <tr>\n",
       "      <th>331</th>\n",
       "      <td>1.421771e+09</td>\n",
       "      <td>11 bytes from stackoverflow.com (198.252.206....</td>\n",
       "      <td>NaN</td>\n",
       "    </tr>\n",
       "    <tr>\n",
       "      <th>379</th>\n",
       "      <td>1.421771e+09</td>\n",
       "      <td>22 bytes from stackoverflow.com (198.252.206....</td>\n",
       "      <td>NaN</td>\n",
       "    </tr>\n",
       "    <tr>\n",
       "      <th>414</th>\n",
       "      <td>1.421771e+09</td>\n",
       "      <td>16 bytes from stackoverflow.com (198.252.206....</td>\n",
       "      <td>NaN</td>\n",
       "    </tr>\n",
       "    <tr>\n",
       "      <th>...</th>\n",
       "      <td>...</td>\n",
       "      <td>...</td>\n",
       "      <td>...</td>\n",
       "    </tr>\n",
       "    <tr>\n",
       "      <th>6356</th>\n",
       "      <td>1.421773e+09</td>\n",
       "      <td>13 bytes from stackoverflow.com (198.252.206....</td>\n",
       "      <td>NaN</td>\n",
       "    </tr>\n",
       "    <tr>\n",
       "      <th>6482</th>\n",
       "      <td>1.421773e+09</td>\n",
       "      <td>10 bytes from stackoverflow.com (198.252.206....</td>\n",
       "      <td>NaN</td>\n",
       "    </tr>\n",
       "    <tr>\n",
       "      <th>6499</th>\n",
       "      <td>1.421773e+09</td>\n",
       "      <td>8 bytes from stackoverflow.com (198.252.206.1...</td>\n",
       "      <td>NaN</td>\n",
       "    </tr>\n",
       "    <tr>\n",
       "      <th>6543</th>\n",
       "      <td>1.421773e+09</td>\n",
       "      <td>17 bytes from stackoverflow.com (198.252.206....</td>\n",
       "      <td>NaN</td>\n",
       "    </tr>\n",
       "    <tr>\n",
       "      <th>6675</th>\n",
       "      <td>1.421773e+09</td>\n",
       "      <td>16 bytes from stackoverflow.com (198.252.206....</td>\n",
       "      <td>NaN</td>\n",
       "    </tr>\n",
       "  </tbody>\n",
       "</table>\n",
       "<p>63 rows × 3 columns</p>\n",
       "</div>"
      ],
      "text/plain": [
       "              time                                              bytes  \\\n",
       "56    1.421771e+09   12 bytes from stackoverflow.com (198.252.206....   \n",
       "136   1.421771e+09   22 bytes from stackoverflow.com (198.252.206....   \n",
       "331   1.421771e+09   11 bytes from stackoverflow.com (198.252.206....   \n",
       "379   1.421771e+09   22 bytes from stackoverflow.com (198.252.206....   \n",
       "414   1.421771e+09   16 bytes from stackoverflow.com (198.252.206....   \n",
       "...            ...                                                ...   \n",
       "6356  1.421773e+09   13 bytes from stackoverflow.com (198.252.206....   \n",
       "6482  1.421773e+09   10 bytes from stackoverflow.com (198.252.206....   \n",
       "6499  1.421773e+09   8 bytes from stackoverflow.com (198.252.206.1...   \n",
       "6543  1.421773e+09   17 bytes from stackoverflow.com (198.252.206....   \n",
       "6675  1.421773e+09   16 bytes from stackoverflow.com (198.252.206....   \n",
       "\n",
       "      transmission_time  \n",
       "56                  NaN  \n",
       "136                 NaN  \n",
       "331                 NaN  \n",
       "379                 NaN  \n",
       "414                 NaN  \n",
       "...                 ...  \n",
       "6356                NaN  \n",
       "6482                NaN  \n",
       "6499                NaN  \n",
       "6543                NaN  \n",
       "6675                NaN  \n",
       "\n",
       "[63 rows x 3 columns]"
      ]
     },
     "execution_count": 456,
     "metadata": {},
     "output_type": "execute_result"
    }
   ],
   "source": [
    "raw_data_bis[raw_data_bis.isnull().any(axis=1)]"
   ]
  },
  {
   "cell_type": "code",
   "execution_count": 457,
   "metadata": {},
   "outputs": [],
   "source": [
    "data_bis = raw_data_bis.dropna().copy()\n",
    "data_bis = data_bis.reset_index(drop = True)"
   ]
  },
  {
   "cell_type": "code",
   "execution_count": 458,
   "metadata": {},
   "outputs": [],
   "source": [
    "data_bis['time'] = data_bis['time'].astype(float)\n",
    "data_bis['transmission_time'] = data_bis['transmission_time'].astype(float)\n",
    "data_bis['bytes'] = data_bis['bytes'].astype(int)"
   ]
  },
  {
   "cell_type": "markdown",
   "metadata": {},
   "source": [
    "### <u>Question 1/</u>"
   ]
  },
  {
   "cell_type": "code",
   "execution_count": 459,
   "metadata": {},
   "outputs": [
    {
     "data": {
      "text/plain": [
       "<matplotlib.axes._subplots.AxesSubplot at 0x7fb7b2590220>"
      ]
     },
     "execution_count": 459,
     "metadata": {},
     "output_type": "execute_result"
    },
    {
     "data": {
      "image/png": "[encoded data removed]",
      "text/plain": [
       "<Figure size 432x288 with 1 Axes>"
      ]
     },
     "metadata": {
      "needs_background": "light"
     },
     "output_type": "display_data"
    }
   ],
   "source": [
    "data_bis.plot(x='time', y='transmission_time', title=\"Evolution of transmission time\")"
   ]
  },
  {
   "cell_type": "code",
   "execution_count": 460,
   "metadata": {},
   "outputs": [
    {
     "data": {
      "text/plain": [
       "<matplotlib.axes._subplots.AxesSubplot at 0x7fb7b229c910>"
      ]
     },
     "execution_count": 460,
     "metadata": {},
     "output_type": "execute_result"
    },
    {
     "data": {
      "image/png": "[encoded data removed]",
      "text/plain": [
       "<Figure size 432x288 with 1 Axes>"
      ]
     },
     "metadata": {
      "needs_background": "light"
     },
     "output_type": "display_data"
    }
   ],
   "source": [
    "data_bis[0:1000].plot(x='time', y='transmission_time', title=\"Evolution of transmission time\")"
   ]
  },
  {
   "cell_type": "markdown",
   "metadata": {},
   "source": [
    "If we compare it to the first data set, we have much more variations in the second data set. We have to plot the transmission time as a function of message size to see if there is a link between the both."
   ]
  },
  {
   "cell_type": "markdown",
   "metadata": {},
   "source": [
    "### <u>Question 2/</u>"
   ]
  },
  {
   "cell_type": "code",
   "execution_count": 461,
   "metadata": {},
   "outputs": [
    {
     "data": {
      "text/plain": [
       "<matplotlib.axes._subplots.AxesSubplot at 0x7fb7b2246250>"
      ]
     },
     "execution_count": 461,
     "metadata": {},
     "output_type": "execute_result"
    },
    {
     "data": {
      "image/png": "[encoded data removed]",
      "text/plain": [
       "<Figure size 432x288 with 1 Axes>"
      ]
     },
     "metadata": {
      "needs_background": "light"
     },
     "output_type": "display_data"
    }
   ],
   "source": [
    "data_bis.plot(x='bytes', y='transmission_time', title=\"Evolution of transmission time according to the size of packets\", style='.')"
   ]
  },
  {
   "cell_type": "markdown",
   "metadata": {},
   "source": [
    "As in for the first data set, we notice a variation at 1500 bytes. The first part of the data is between 110 and 135 ms and the second part of the data is between 110 and 160 ms."
   ]
  },
  {
   "cell_type": "markdown",
   "metadata": {},
   "source": [
    "### <u>Question 3/</u>"
   ]
  },
  {
   "cell_type": "code",
   "execution_count": 462,
   "metadata": {},
   "outputs": [
    {
     "data": {
      "text/plain": [
       "<matplotlib.axes._subplots.AxesSubplot at 0x7fb7b21db130>"
      ]
     },
     "execution_count": 462,
     "metadata": {},
     "output_type": "execute_result"
    },
    {
     "data": {
      "image/png": "[encoded data removed]",
      "text/plain": [
       "<Figure size 432x288 with 1 Axes>"
      ]
     },
     "metadata": {
      "needs_background": "light"
     },
     "output_type": "display_data"
    }
   ],
   "source": [
    "data_bis_1 = data_bis.query('bytes <= 1480')\n",
    "data_bis_1 = data_bis_1.reset_index(drop = True)\n",
    "data_bis_1.plot(x='bytes', y='transmission_time', title=\"Evolution of transmission time according to the size of packets\", style='.')"
   ]
  },
  {
   "cell_type": "code",
   "execution_count": 463,
   "metadata": {
    "scrolled": true
   },
   "outputs": [
    {
     "data": {
      "text/plain": [
       "<matplotlib.axes._subplots.AxesSubplot at 0x7fb7b21fb700>"
      ]
     },
     "execution_count": 463,
     "metadata": {},
     "output_type": "execute_result"
    },
    {
     "data": {
      "image/png": "[encoded data removed]",
      "text/plain": [
       "<Figure size 432x288 with 1 Axes>"
      ]
     },
     "metadata": {
      "needs_background": "light"
     },
     "output_type": "display_data"
    }
   ],
   "source": [
    "data_bis_2 = data_bis.query('bytes > 1480')\n",
    "data_bis_2 = data_bis_2.reset_index(drop = True)\n",
    "data_bis_2.plot(x='bytes', y='transmission_time', title=\"Evolution of transmission time according to the size of packets\", style='.')"
   ]
  },
  {
   "cell_type": "markdown",
   "metadata": {},
   "source": [
    "### Linear regression with sklearn"
   ]
  },
  {
   "cell_type": "markdown",
   "metadata": {},
   "source": [
    "#### Data : first part"
   ]
  },
  {
   "cell_type": "code",
   "execution_count": 464,
   "metadata": {},
   "outputs": [
    {
     "data": {
      "text/plain": [
       "[<matplotlib.lines.Line2D at 0x7fb7b215d7c0>]"
      ]
     },
     "execution_count": 464,
     "metadata": {},
     "output_type": "execute_result"
    },
    {
     "data": {
      "image/png": "[encoded data removed]",
      "text/plain": [
       "<Figure size 432x288 with 1 Axes>"
      ]
     },
     "metadata": {
      "needs_background": "light"
     },
     "output_type": "display_data"
    }
   ],
   "source": [
    "linear_regressor = LinearRegression()\n",
    "linear_regressor.fit(data_bis_1['bytes'].values.reshape(-1, 1), data_bis_1['transmission_time'].values.reshape(-1, 1))\n",
    "Y_pred = linear_regressor.predict(data_bis_1['bytes'].values.reshape(-1, 1))\n",
    "data_bis_1.plot(x='bytes', y='transmission_time', title=\"Evolution of transmission time according to the size of packets\", style='.')\n",
    "plt.plot(data_bis_1['bytes'].values.reshape(-1, 1), Y_pred, color='red')"
   ]
  },
  {
   "cell_type": "code",
   "execution_count": 465,
   "metadata": {},
   "outputs": [
    {
     "data": {
      "text/plain": [
       "array([[4.52099409e-05]])"
      ]
     },
     "execution_count": 465,
     "metadata": {},
     "output_type": "execute_result"
    }
   ],
   "source": [
    "linear_regressor.coef_"
   ]
  },
  {
   "cell_type": "code",
   "execution_count": 466,
   "metadata": {},
   "outputs": [
    {
     "data": {
      "text/plain": [
       "array([113.22750968])"
      ]
     },
     "execution_count": 466,
     "metadata": {},
     "output_type": "execute_result"
    }
   ],
   "source": [
    "linear_regressor.intercept_"
   ]
  },
  {
   "cell_type": "markdown",
   "metadata": {},
   "source": [
    "$\\frac{1}{C} = 4.52099409e^{-05}$ so $C = \\frac{1}{4.52099409e^{-05}} = 22119.0291359$ bytes per sec\n",
    "\n",
    "$L = 113.22750968$ ms"
   ]
  },
  {
   "cell_type": "markdown",
   "metadata": {},
   "source": [
    "#### Data : second part"
   ]
  },
  {
   "cell_type": "code",
   "execution_count": 467,
   "metadata": {},
   "outputs": [
    {
     "data": {
      "text/plain": [
       "[<matplotlib.lines.Line2D at 0x7fb7b2103b20>]"
      ]
     },
     "execution_count": 467,
     "metadata": {},
     "output_type": "execute_result"
    },
    {
     "data": {
      "image/png": "[encoded data removed]",
      "text/plain": [
       "<Figure size 432x288 with 1 Axes>"
      ]
     },
     "metadata": {
      "needs_background": "light"
     },
     "output_type": "display_data"
    }
   ],
   "source": [
    "linear_regressor2 = LinearRegression()\n",
    "linear_regressor2.fit(data_bis_2['bytes'].values.reshape(-1, 1), data_bis_2['transmission_time'].values.reshape(-1, 1))\n",
    "Y_pred = linear_regressor2.predict(data_bis_2['bytes'].values.reshape(-1, 1))\n",
    "data_bis_2.plot(x='bytes', y='transmission_time', title=\"Evolution of transmission time according to the size of packets\", style='.')\n",
    "plt.plot(data_bis_2['bytes'].values.reshape(-1, 1), Y_pred, color='red')"
   ]
  },
  {
   "cell_type": "code",
   "execution_count": 468,
   "metadata": {},
   "outputs": [
    {
     "data": {
      "text/plain": [
       "array([[-0.0018029]])"
      ]
     },
     "execution_count": 468,
     "metadata": {},
     "output_type": "execute_result"
    }
   ],
   "source": [
    "linear_regressor2.coef_"
   ]
  },
  {
   "cell_type": "code",
   "execution_count": 469,
   "metadata": {},
   "outputs": [
    {
     "data": {
      "text/plain": [
       "array([120.05358833])"
      ]
     },
     "execution_count": 469,
     "metadata": {},
     "output_type": "execute_result"
    }
   ],
   "source": [
    "linear_regressor2.intercept_"
   ]
  },
  {
   "cell_type": "markdown",
   "metadata": {},
   "source": [
    "$\\frac{1}{C} = 0.0018029$ so $C = \\frac{1}{0.0018029} = 554.661933552$ bytes per sec\n",
    "\n",
    "$L = 120.05358833$ ms"
   ]
  },
  {
   "cell_type": "markdown",
   "metadata": {},
   "source": [
    "### Linear regression with statsmodels"
   ]
  },
  {
   "cell_type": "markdown",
   "metadata": {},
   "source": [
    "#### Data : first part"
   ]
  },
  {
   "cell_type": "code",
   "execution_count": 470,
   "metadata": {},
   "outputs": [
    {
     "data": {
      "text/html": [
       "<table class=\"simpletable\">\n",
       "<caption>OLS Regression Results</caption>\n",
       "<tr>\n",
       "  <th>Dep. Variable:</th>    <td>transmission_time</td> <th>  R-squared:         </th> <td>   0.000</td> \n",
       "</tr>\n",
       "<tr>\n",
       "  <th>Model:</th>                   <td>OLS</td>        <th>  Adj. R-squared:    </th> <td>  -0.000</td> \n",
       "</tr>\n",
       "<tr>\n",
       "  <th>Method:</th>             <td>Least Squares</td>   <th>  F-statistic:       </th> <td> 0.05442</td> \n",
       "</tr>\n",
       "<tr>\n",
       "  <th>Date:</th>             <td>Sat, 11 Jan 2020</td>  <th>  Prob (F-statistic):</th>  <td> 0.816</td>  \n",
       "</tr>\n",
       "<tr>\n",
       "  <th>Time:</th>                 <td>17:55:37</td>      <th>  Log-Likelihood:    </th> <td> -15946.</td> \n",
       "</tr>\n",
       "<tr>\n",
       "  <th>No. Observations:</th>      <td>  5015</td>       <th>  AIC:               </th> <td>3.190e+04</td>\n",
       "</tr>\n",
       "<tr>\n",
       "  <th>Df Residuals:</th>          <td>  5013</td>       <th>  BIC:               </th> <td>3.191e+04</td>\n",
       "</tr>\n",
       "<tr>\n",
       "  <th>Df Model:</th>              <td>     1</td>       <th>                     </th>     <td> </td>    \n",
       "</tr>\n",
       "<tr>\n",
       "  <th>Covariance Type:</th>      <td>nonrobust</td>     <th>                     </th>     <td> </td>    \n",
       "</tr>\n",
       "</table>\n",
       "<table class=\"simpletable\">\n",
       "<tr>\n",
       "    <td></td>       <th>coef</th>     <th>std err</th>      <th>t</th>      <th>P>|t|</th>  <th>[0.025</th>    <th>0.975]</th>  \n",
       "</tr>\n",
       "<tr>\n",
       "  <th>x1</th>    <td> 4.521e-05</td> <td>    0.000</td> <td>    0.233</td> <td> 0.816</td> <td>   -0.000</td> <td>    0.000</td>\n",
       "</tr>\n",
       "<tr>\n",
       "  <th>const</th> <td>  113.2275</td> <td>    0.165</td> <td>  684.253</td> <td> 0.000</td> <td>  112.903</td> <td>  113.552</td>\n",
       "</tr>\n",
       "</table>\n",
       "<table class=\"simpletable\">\n",
       "<tr>\n",
       "  <th>Omnibus:</th>       <td>2447.857</td> <th>  Durbin-Watson:     </th> <td>   0.488</td> \n",
       "</tr>\n",
       "<tr>\n",
       "  <th>Prob(Omnibus):</th>  <td> 0.000</td>  <th>  Jarque-Bera (JB):  </th> <td>10432.526</td>\n",
       "</tr>\n",
       "<tr>\n",
       "  <th>Skew:</th>           <td> 2.500</td>  <th>  Prob(JB):          </th> <td>    0.00</td> \n",
       "</tr>\n",
       "<tr>\n",
       "  <th>Kurtosis:</th>       <td> 7.993</td>  <th>  Cond. No.          </th> <td>1.72e+03</td> \n",
       "</tr>\n",
       "</table><br/><br/>Warnings:<br/>[1] Standard Errors assume that the covariance matrix of the errors is correctly specified.<br/>[2] The condition number is large, 1.72e+03. This might indicate that there are<br/>strong multicollinearity or other numerical problems."
      ],
      "text/plain": [
       "<class 'statsmodels.iolib.summary.Summary'>\n",
       "\"\"\"\n",
       "                            OLS Regression Results                            \n",
       "==============================================================================\n",
       "Dep. Variable:      transmission_time   R-squared:                       0.000\n",
       "Model:                            OLS   Adj. R-squared:                 -0.000\n",
       "Method:                 Least Squares   F-statistic:                   0.05442\n",
       "Date:                Sat, 11 Jan 2020   Prob (F-statistic):              0.816\n",
       "Time:                        17:55:37   Log-Likelihood:                -15946.\n",
       "No. Observations:                5015   AIC:                         3.190e+04\n",
       "Df Residuals:                    5013   BIC:                         3.191e+04\n",
       "Df Model:                           1                                         \n",
       "Covariance Type:            nonrobust                                         \n",
       "==============================================================================\n",
       "                 coef    std err          t      P>|t|      [0.025      0.975]\n",
       "------------------------------------------------------------------------------\n",
       "x1          4.521e-05      0.000      0.233      0.816      -0.000       0.000\n",
       "const        113.2275      0.165    684.253      0.000     112.903     113.552\n",
       "==============================================================================\n",
       "Omnibus:                     2447.857   Durbin-Watson:                   0.488\n",
       "Prob(Omnibus):                  0.000   Jarque-Bera (JB):            10432.526\n",
       "Skew:                           2.500   Prob(JB):                         0.00\n",
       "Kurtosis:                       7.993   Cond. No.                     1.72e+03\n",
       "==============================================================================\n",
       "\n",
       "Warnings:\n",
       "[1] Standard Errors assume that the covariance matrix of the errors is correctly specified.\n",
       "[2] The condition number is large, 1.72e+03. This might indicate that there are\n",
       "strong multicollinearity or other numerical problems.\n",
       "\"\"\""
      ]
     },
     "execution_count": 470,
     "metadata": {},
     "output_type": "execute_result"
    }
   ],
   "source": [
    "X_bis = data_bis_1['bytes']\n",
    "X_bis = np.vander(X_bis, 2)\n",
    "y_bis = data_bis_1['transmission_time']\n",
    "model = sm.OLS(y_bis, X_bis)\n",
    "results = model.fit()\n",
    "results.summary()"
   ]
  },
  {
   "cell_type": "markdown",
   "metadata": {},
   "source": [
    "#### Data : second part"
   ]
  },
  {
   "cell_type": "code",
   "execution_count": 471,
   "metadata": {},
   "outputs": [
    {
     "data": {
      "text/html": [
       "<table class=\"simpletable\">\n",
       "<caption>OLS Regression Results</caption>\n",
       "<tr>\n",
       "  <th>Dep. Variable:</th>    <td>transmission_time</td> <th>  R-squared:         </th> <td>   0.001</td> \n",
       "</tr>\n",
       "<tr>\n",
       "  <th>Model:</th>                   <td>OLS</td>        <th>  Adj. R-squared:    </th> <td>  -0.000</td> \n",
       "</tr>\n",
       "<tr>\n",
       "  <th>Method:</th>             <td>Least Squares</td>   <th>  F-statistic:       </th> <td>  0.9739</td> \n",
       "</tr>\n",
       "<tr>\n",
       "  <th>Date:</th>             <td>Sat, 11 Jan 2020</td>  <th>  Prob (F-statistic):</th>  <td> 0.324</td>  \n",
       "</tr>\n",
       "<tr>\n",
       "  <th>Time:</th>                 <td>17:55:37</td>      <th>  Log-Likelihood:    </th> <td> -7043.5</td> \n",
       "</tr>\n",
       "<tr>\n",
       "  <th>No. Observations:</th>      <td>  1809</td>       <th>  AIC:               </th> <td>1.409e+04</td>\n",
       "</tr>\n",
       "<tr>\n",
       "  <th>Df Residuals:</th>          <td>  1807</td>       <th>  BIC:               </th> <td>1.410e+04</td>\n",
       "</tr>\n",
       "<tr>\n",
       "  <th>Df Model:</th>              <td>     1</td>       <th>                     </th>     <td> </td>    \n",
       "</tr>\n",
       "<tr>\n",
       "  <th>Covariance Type:</th>      <td>nonrobust</td>     <th>                     </th>     <td> </td>    \n",
       "</tr>\n",
       "</table>\n",
       "<table class=\"simpletable\">\n",
       "<tr>\n",
       "    <td></td>       <th>coef</th>     <th>std err</th>      <th>t</th>      <th>P>|t|</th>  <th>[0.025</th>    <th>0.975]</th>  \n",
       "</tr>\n",
       "<tr>\n",
       "  <th>x1</th>    <td>   -0.0018</td> <td>    0.002</td> <td>   -0.987</td> <td> 0.324</td> <td>   -0.005</td> <td>    0.002</td>\n",
       "</tr>\n",
       "<tr>\n",
       "  <th>const</th> <td>  120.0536</td> <td>    3.189</td> <td>   37.648</td> <td> 0.000</td> <td>  113.799</td> <td>  126.308</td>\n",
       "</tr>\n",
       "</table>\n",
       "<table class=\"simpletable\">\n",
       "<tr>\n",
       "  <th>Omnibus:</th>       <td>822.167</td> <th>  Durbin-Watson:     </th> <td>   0.742</td>\n",
       "</tr>\n",
       "<tr>\n",
       "  <th>Prob(Omnibus):</th> <td> 0.000</td>  <th>  Jarque-Bera (JB):  </th> <td>2957.721</td>\n",
       "</tr>\n",
       "<tr>\n",
       "  <th>Skew:</th>          <td> 2.350</td>  <th>  Prob(JB):          </th> <td>    0.00</td>\n",
       "</tr>\n",
       "<tr>\n",
       "  <th>Kurtosis:</th>      <td> 7.142</td>  <th>  Cond. No.          </th> <td>1.99e+04</td>\n",
       "</tr>\n",
       "</table><br/><br/>Warnings:<br/>[1] Standard Errors assume that the covariance matrix of the errors is correctly specified.<br/>[2] The condition number is large, 1.99e+04. This might indicate that there are<br/>strong multicollinearity or other numerical problems."
      ],
      "text/plain": [
       "<class 'statsmodels.iolib.summary.Summary'>\n",
       "\"\"\"\n",
       "                            OLS Regression Results                            \n",
       "==============================================================================\n",
       "Dep. Variable:      transmission_time   R-squared:                       0.001\n",
       "Model:                            OLS   Adj. R-squared:                 -0.000\n",
       "Method:                 Least Squares   F-statistic:                    0.9739\n",
       "Date:                Sat, 11 Jan 2020   Prob (F-statistic):              0.324\n",
       "Time:                        17:55:37   Log-Likelihood:                -7043.5\n",
       "No. Observations:                1809   AIC:                         1.409e+04\n",
       "Df Residuals:                    1807   BIC:                         1.410e+04\n",
       "Df Model:                           1                                         \n",
       "Covariance Type:            nonrobust                                         \n",
       "==============================================================================\n",
       "                 coef    std err          t      P>|t|      [0.025      0.975]\n",
       "------------------------------------------------------------------------------\n",
       "x1            -0.0018      0.002     -0.987      0.324      -0.005       0.002\n",
       "const        120.0536      3.189     37.648      0.000     113.799     126.308\n",
       "==============================================================================\n",
       "Omnibus:                      822.167   Durbin-Watson:                   0.742\n",
       "Prob(Omnibus):                  0.000   Jarque-Bera (JB):             2957.721\n",
       "Skew:                           2.350   Prob(JB):                         0.00\n",
       "Kurtosis:                       7.142   Cond. No.                     1.99e+04\n",
       "==============================================================================\n",
       "\n",
       "Warnings:\n",
       "[1] Standard Errors assume that the covariance matrix of the errors is correctly specified.\n",
       "[2] The condition number is large, 1.99e+04. This might indicate that there are\n",
       "strong multicollinearity or other numerical problems.\n",
       "\"\"\""
      ]
     },
     "execution_count": 471,
     "metadata": {},
     "output_type": "execute_result"
    }
   ],
   "source": [
    "X_bis_2 = data_bis_2['bytes']\n",
    "X_bis_2 = np.vander(X_bis_2, 2)\n",
    "y_bis_2 = data_bis_2['transmission_time']\n",
    "model2 = sm.OLS(y_bis_2, X_bis_2)\n",
    "results2 = model2.fit()\n",
    "results2.summary()"
   ]
  },
  {
   "cell_type": "markdown",
   "metadata": {},
   "source": [
    "As in for the first data set, we have more or less the same coefficients."
   ]
  },
  {
   "cell_type": "markdown",
   "metadata": {},
   "source": [
    "### <u>Question 4/</u>"
   ]
  },
  {
   "cell_type": "markdown",
   "metadata": {},
   "source": [
    "### Quantile regression with statsmodels"
   ]
  },
  {
   "cell_type": "markdown",
   "metadata": {},
   "source": [
    "#### Data : First part"
   ]
  },
  {
   "cell_type": "code",
   "execution_count": 472,
   "metadata": {},
   "outputs": [
    {
     "data": {
      "text/html": [
       "<table class=\"simpletable\">\n",
       "<caption>QuantReg Regression Results</caption>\n",
       "<tr>\n",
       "  <th>Dep. Variable:</th> <td>transmission_time</td> <th>  Pseudo R-squared:  </th> <td>-9.392e-08</td>\n",
       "</tr>\n",
       "<tr>\n",
       "  <th>Model:</th>             <td>QuantReg</td>      <th>  Bandwidth:         </th>  <td>1.562e-07</td>\n",
       "</tr>\n",
       "<tr>\n",
       "  <th>Method:</th>          <td>Least Squares</td>   <th>  Sparsity:          </th>  <td>1.530e-06</td>\n",
       "</tr>\n",
       "<tr>\n",
       "  <th>Date:</th>          <td>Sat, 11 Jan 2020</td>  <th>  No. Observations:  </th>   <td>  5015</td>  \n",
       "</tr>\n",
       "<tr>\n",
       "  <th>Time:</th>              <td>17:55:37</td>      <th>  Df Residuals:      </th>   <td>  5013</td>  \n",
       "</tr>\n",
       "<tr>\n",
       "  <th> </th>                      <td> </td>         <th>  Df Model:          </th>   <td>     1</td>  \n",
       "</tr>\n",
       "</table>\n",
       "<table class=\"simpletable\">\n",
       "<tr>\n",
       "      <td></td>         <th>coef</th>     <th>std err</th>      <th>t</th>      <th>P>|t|</th>  <th>[0.025</th>    <th>0.975]</th>  \n",
       "</tr>\n",
       "<tr>\n",
       "  <th>Intercept</th> <td>  111.0000</td> <td> 2.18e-08</td> <td>  5.1e+09</td> <td> 0.000</td> <td>  111.000</td> <td>  111.000</td>\n",
       "</tr>\n",
       "<tr>\n",
       "  <th>bytes</th>     <td> 7.566e-10</td> <td> 2.55e-11</td> <td>   29.701</td> <td> 0.000</td> <td> 7.07e-10</td> <td> 8.07e-10</td>\n",
       "</tr>\n",
       "</table><br/><br/>The condition number is large, 1.72e+03. This might indicate that there are<br/>strong multicollinearity or other numerical problems."
      ],
      "text/plain": [
       "<class 'statsmodels.iolib.summary.Summary'>\n",
       "\"\"\"\n",
       "                         QuantReg Regression Results                          \n",
       "==============================================================================\n",
       "Dep. Variable:      transmission_time   Pseudo R-squared:           -9.392e-08\n",
       "Model:                       QuantReg   Bandwidth:                   1.562e-07\n",
       "Method:                 Least Squares   Sparsity:                    1.530e-06\n",
       "Date:                Sat, 11 Jan 2020   No. Observations:                 5015\n",
       "Time:                        17:55:37   Df Residuals:                     5013\n",
       "                                        Df Model:                            1\n",
       "==============================================================================\n",
       "                 coef    std err          t      P>|t|      [0.025      0.975]\n",
       "------------------------------------------------------------------------------\n",
       "Intercept    111.0000   2.18e-08    5.1e+09      0.000     111.000     111.000\n",
       "bytes       7.566e-10   2.55e-11     29.701      0.000    7.07e-10    8.07e-10\n",
       "==============================================================================\n",
       "\n",
       "The condition number is large, 1.72e+03. This might indicate that there are\n",
       "strong multicollinearity or other numerical problems.\n",
       "\"\"\""
      ]
     },
     "execution_count": 472,
     "metadata": {},
     "output_type": "execute_result"
    }
   ],
   "source": [
    "mod = smf.quantreg('transmission_time ~ bytes', data_bis_1)\n",
    "res = mod.fit(q=.5)\n",
    "res.summary()"
   ]
  },
  {
   "cell_type": "code",
   "execution_count": 473,
   "metadata": {},
   "outputs": [
    {
     "data": {
      "text/plain": [
       "[<matplotlib.lines.Line2D at 0x7fb7b20dca60>]"
      ]
     },
     "execution_count": 473,
     "metadata": {},
     "output_type": "execute_result"
    },
    {
     "data": {
      "image/png": "[encoded data removed]",
      "text/plain": [
       "<Figure size 432x288 with 1 Axes>"
      ]
     },
     "metadata": {
      "needs_background": "light"
     },
     "output_type": "display_data"
    }
   ],
   "source": [
    "data_bis_1.plot(x='bytes', y='transmission_time', title=\"Evolution of transmission time according to the size of packets\", style='.')\n",
    "calculate_y_quantile = lambda a, b: a * data_bis_1['bytes'] + b\n",
    "y_quantile = calculate_y_quantile(7.546e-10, 111.0000)\n",
    "plt.plot(data_bis_1['bytes'], y_quantile, color='red')"
   ]
  },
  {
   "cell_type": "markdown",
   "metadata": {},
   "source": [
    "#### Data : second part"
   ]
  },
  {
   "cell_type": "code",
   "execution_count": 474,
   "metadata": {},
   "outputs": [
    {
     "name": "stderr",
     "output_type": "stream",
     "text": [
      "/usr/lib/python3.8/site-packages/statsmodels/regression/quantile_regression.py:206: RuntimeWarning: divide by zero encountered in double_scalars\n",
      "  d = np.where(e > 0, (q/fhat0)**2, ((1-q)/fhat0)**2)\n",
      "/usr/lib/python3.8/site-packages/statsmodels/regression/quantile_regression.py:219: RuntimeWarning: divide by zero encountered in double_scalars\n",
      "  lfit.sparsity = 1. / fhat0\n",
      "/usr/lib/python3.8/site-packages/scipy/stats/_distn_infrastructure.py:901: RuntimeWarning: invalid value encountered in greater\n",
      "  return (a < x) & (x < b)\n",
      "/usr/lib/python3.8/site-packages/scipy/stats/_distn_infrastructure.py:901: RuntimeWarning: invalid value encountered in less\n",
      "  return (a < x) & (x < b)\n",
      "/usr/lib/python3.8/site-packages/scipy/stats/_distn_infrastructure.py:1892: RuntimeWarning: invalid value encountered in less_equal\n",
      "  cond2 = cond0 & (x <= _a)\n"
     ]
    },
    {
     "data": {
      "text/html": [
       "<table class=\"simpletable\">\n",
       "<caption>QuantReg Regression Results</caption>\n",
       "<tr>\n",
       "  <th>Dep. Variable:</th> <td>transmission_time</td> <th>  Pseudo R-squared:  </th> <td>-2.718e-08</td>\n",
       "</tr>\n",
       "<tr>\n",
       "  <th>Model:</th>             <td>QuantReg</td>      <th>  Bandwidth:         </th>  <td>1.956e-08</td>\n",
       "</tr>\n",
       "<tr>\n",
       "  <th>Method:</th>          <td>Least Squares</td>   <th>  Sparsity:          </th>  <td>     inf</td> \n",
       "</tr>\n",
       "<tr>\n",
       "  <th>Date:</th>          <td>Sat, 11 Jan 2020</td>  <th>  No. Observations:  </th>   <td>  1809</td>  \n",
       "</tr>\n",
       "<tr>\n",
       "  <th>Time:</th>              <td>17:55:37</td>      <th>  Df Residuals:      </th>   <td>  1807</td>  \n",
       "</tr>\n",
       "<tr>\n",
       "  <th> </th>                      <td> </td>         <th>  Df Model:          </th>   <td>     1</td>  \n",
       "</tr>\n",
       "</table>\n",
       "<table class=\"simpletable\">\n",
       "<tr>\n",
       "      <td></td>         <th>coef</th>     <th>std err</th>      <th>t</th>      <th>P>|t|</th>  <th>[0.025</th>    <th>0.975]</th>  \n",
       "</tr>\n",
       "<tr>\n",
       "  <th>Intercept</th> <td>  112.0000</td> <td>      nan</td> <td>      nan</td> <td>   nan</td> <td>      nan</td> <td>      nan</td>\n",
       "</tr>\n",
       "<tr>\n",
       "  <th>bytes</th>     <td> 1.845e-10</td> <td>      nan</td> <td>      nan</td> <td>   nan</td> <td>      nan</td> <td>      nan</td>\n",
       "</tr>\n",
       "</table><br/><br/>The condition number is large, 1.99e+04. This might indicate that there are<br/>strong multicollinearity or other numerical problems."
      ],
      "text/plain": [
       "<class 'statsmodels.iolib.summary.Summary'>\n",
       "\"\"\"\n",
       "                         QuantReg Regression Results                          \n",
       "==============================================================================\n",
       "Dep. Variable:      transmission_time   Pseudo R-squared:           -2.718e-08\n",
       "Model:                       QuantReg   Bandwidth:                   1.956e-08\n",
       "Method:                 Least Squares   Sparsity:                          inf\n",
       "Date:                Sat, 11 Jan 2020   No. Observations:                 1809\n",
       "Time:                        17:55:37   Df Residuals:                     1807\n",
       "                                        Df Model:                            1\n",
       "==============================================================================\n",
       "                 coef    std err          t      P>|t|      [0.025      0.975]\n",
       "------------------------------------------------------------------------------\n",
       "Intercept    112.0000        nan        nan        nan         nan         nan\n",
       "bytes       1.845e-10        nan        nan        nan         nan         nan\n",
       "==============================================================================\n",
       "\n",
       "The condition number is large, 1.99e+04. This might indicate that there are\n",
       "strong multicollinearity or other numerical problems.\n",
       "\"\"\""
      ]
     },
     "execution_count": 474,
     "metadata": {},
     "output_type": "execute_result"
    }
   ],
   "source": [
    "mod2 = smf.quantreg('transmission_time ~ bytes', data_bis_2)\n",
    "res2 = mod2.fit(q=.5)\n",
    "res2.summary()"
   ]
  },
  {
   "cell_type": "markdown",
   "metadata": {},
   "source": [
    "Now we have a problem : <b>division by zero</b>. "
   ]
  },
  {
   "cell_type": "markdown",
   "metadata": {},
   "source": [
    "This is due to the coefficient of the line which is too close to zero and thus the program can not compute the values."
   ]
  },
  {
   "cell_type": "code",
   "execution_count": 475,
   "metadata": {},
   "outputs": [
    {
     "data": {
      "text/plain": [
       "[<matplotlib.lines.Line2D at 0x7fb7b2041730>]"
      ]
     },
     "execution_count": 475,
     "metadata": {},
     "output_type": "execute_result"
    },
    {
     "data": {
      "image/png": "[encoded data removed]",
      "text/plain": [
       "<Figure size 432x288 with 1 Axes>"
      ]
     },
     "metadata": {
      "needs_background": "light"
     },
     "output_type": "display_data"
    }
   ],
   "source": [
    "data_bis_2.plot(x='bytes', y='transmission_time', title=\"Evolution of transmission time according to the size of packets\", style='.')\n",
    "calculate_y_quantile = lambda a, b: a * data_bis_2['bytes'] + b\n",
    "y_quantile = calculate_y_quantile( 1.845e-10, 112.0000)\n",
    "plt.plot(data_bis_2['bytes'], y_quantile, color='red')"
   ]
  },
  {
   "cell_type": "markdown",
   "metadata": {},
   "source": [
    "As for the first data set, the intercept is lower with the quantile regression."
   ]
  },
  {
   "cell_type": "markdown",
   "metadata": {},
   "source": [
    "### Other method : smallest transmission times"
   ]
  },
  {
   "cell_type": "markdown",
   "metadata": {},
   "source": [
    "### Linear Regression : first part"
   ]
  },
  {
   "cell_type": "code",
   "execution_count": 476,
   "metadata": {},
   "outputs": [],
   "source": [
    "dic = {}\n",
    "for index, row in data_bis_1.iterrows():\n",
    "    if row['bytes'] not in dic:\n",
    "        dic[row['bytes']] = [row['transmission_time']]\n",
    "    else:\n",
    "        dic[row['bytes']].append(row['transmission_time'])\n",
    "\n",
    "for key, value in dic.items():\n",
    "    dic[key] = min(value)\n",
    "\n",
    "x_bytes = dic.keys()\n",
    "x_bytes = [int(i) for i in x_bytes]\n",
    "y_min_time = dic.values()\n",
    "y_min_time = [float(j) for j in y_min_time]"
   ]
  },
  {
   "cell_type": "code",
   "execution_count": 477,
   "metadata": {},
   "outputs": [
    {
     "data": {
      "text/html": [
       "<table class=\"simpletable\">\n",
       "<caption>OLS Regression Results</caption>\n",
       "<tr>\n",
       "  <th>Dep. Variable:</th>            <td>y</td>        <th>  R-squared:         </th> <td>   0.005</td>\n",
       "</tr>\n",
       "<tr>\n",
       "  <th>Model:</th>                   <td>OLS</td>       <th>  Adj. R-squared:    </th> <td>   0.004</td>\n",
       "</tr>\n",
       "<tr>\n",
       "  <th>Method:</th>             <td>Least Squares</td>  <th>  F-statistic:       </th> <td>   6.931</td>\n",
       "</tr>\n",
       "<tr>\n",
       "  <th>Date:</th>             <td>Sat, 11 Jan 2020</td> <th>  Prob (F-statistic):</th>  <td>0.00856</td>\n",
       "</tr>\n",
       "<tr>\n",
       "  <th>Time:</th>                 <td>17:55:37</td>     <th>  Log-Likelihood:    </th> <td> -3063.0</td>\n",
       "</tr>\n",
       "<tr>\n",
       "  <th>No. Observations:</th>      <td>  1410</td>      <th>  AIC:               </th> <td>   6130.</td>\n",
       "</tr>\n",
       "<tr>\n",
       "  <th>Df Residuals:</th>          <td>  1408</td>      <th>  BIC:               </th> <td>   6141.</td>\n",
       "</tr>\n",
       "<tr>\n",
       "  <th>Df Model:</th>              <td>     1</td>      <th>                     </th>     <td> </td>   \n",
       "</tr>\n",
       "<tr>\n",
       "  <th>Covariance Type:</th>      <td>nonrobust</td>    <th>                     </th>     <td> </td>   \n",
       "</tr>\n",
       "</table>\n",
       "<table class=\"simpletable\">\n",
       "<tr>\n",
       "    <td></td>       <th>coef</th>     <th>std err</th>      <th>t</th>      <th>P>|t|</th>  <th>[0.025</th>    <th>0.975]</th>  \n",
       "</tr>\n",
       "<tr>\n",
       "  <th>x1</th>    <td>    0.0004</td> <td>    0.000</td> <td>    2.633</td> <td> 0.009</td> <td>    9e-05</td> <td>    0.001</td>\n",
       "</tr>\n",
       "<tr>\n",
       "  <th>const</th> <td>  110.8810</td> <td>    0.116</td> <td>  959.887</td> <td> 0.000</td> <td>  110.654</td> <td>  111.108</td>\n",
       "</tr>\n",
       "</table>\n",
       "<table class=\"simpletable\">\n",
       "<tr>\n",
       "  <th>Omnibus:</th>       <td>1935.989</td> <th>  Durbin-Watson:     </th>  <td>   1.857</td> \n",
       "</tr>\n",
       "<tr>\n",
       "  <th>Prob(Omnibus):</th>  <td> 0.000</td>  <th>  Jarque-Bera (JB):  </th> <td>269494.919</td>\n",
       "</tr>\n",
       "<tr>\n",
       "  <th>Skew:</th>           <td> 7.915</td>  <th>  Prob(JB):          </th>  <td>    0.00</td> \n",
       "</tr>\n",
       "<tr>\n",
       "  <th>Kurtosis:</th>       <td>68.853</td>  <th>  Cond. No.          </th>  <td>1.76e+03</td> \n",
       "</tr>\n",
       "</table><br/><br/>Warnings:<br/>[1] Standard Errors assume that the covariance matrix of the errors is correctly specified.<br/>[2] The condition number is large, 1.76e+03. This might indicate that there are<br/>strong multicollinearity or other numerical problems."
      ],
      "text/plain": [
       "<class 'statsmodels.iolib.summary.Summary'>\n",
       "\"\"\"\n",
       "                            OLS Regression Results                            \n",
       "==============================================================================\n",
       "Dep. Variable:                      y   R-squared:                       0.005\n",
       "Model:                            OLS   Adj. R-squared:                  0.004\n",
       "Method:                 Least Squares   F-statistic:                     6.931\n",
       "Date:                Sat, 11 Jan 2020   Prob (F-statistic):            0.00856\n",
       "Time:                        17:55:37   Log-Likelihood:                -3063.0\n",
       "No. Observations:                1410   AIC:                             6130.\n",
       "Df Residuals:                    1408   BIC:                             6141.\n",
       "Df Model:                           1                                         \n",
       "Covariance Type:            nonrobust                                         \n",
       "==============================================================================\n",
       "                 coef    std err          t      P>|t|      [0.025      0.975]\n",
       "------------------------------------------------------------------------------\n",
       "x1             0.0004      0.000      2.633      0.009       9e-05       0.001\n",
       "const        110.8810      0.116    959.887      0.000     110.654     111.108\n",
       "==============================================================================\n",
       "Omnibus:                     1935.989   Durbin-Watson:                   1.857\n",
       "Prob(Omnibus):                  0.000   Jarque-Bera (JB):           269494.919\n",
       "Skew:                           7.915   Prob(JB):                         0.00\n",
       "Kurtosis:                      68.853   Cond. No.                     1.76e+03\n",
       "==============================================================================\n",
       "\n",
       "Warnings:\n",
       "[1] Standard Errors assume that the covariance matrix of the errors is correctly specified.\n",
       "[2] The condition number is large, 1.76e+03. This might indicate that there are\n",
       "strong multicollinearity or other numerical problems.\n",
       "\"\"\""
      ]
     },
     "execution_count": 477,
     "metadata": {},
     "output_type": "execute_result"
    }
   ],
   "source": [
    "X_reg = x_bytes\n",
    "X_reg = np.vander(X_reg, 2)\n",
    "y_reg = y_min_time\n",
    "model_reg = sm.OLS(y_reg, X_reg)\n",
    "results_reg = model_reg.fit()\n",
    "results_reg.summary()"
   ]
  },
  {
   "cell_type": "code",
   "execution_count": 478,
   "metadata": {},
   "outputs": [
    {
     "data": {
      "text/plain": [
       "[<matplotlib.lines.Line2D at 0x7fb7b1fec190>]"
      ]
     },
     "execution_count": 478,
     "metadata": {},
     "output_type": "execute_result"
    },
    {
     "data": {
      "image/png": "[encoded data removed]",
      "text/plain": [
       "<Figure size 432x288 with 1 Axes>"
      ]
     },
     "metadata": {
      "needs_background": "light"
     },
     "output_type": "display_data"
    }
   ],
   "source": [
    "plt.scatter(x_bytes, y_min_time)\n",
    "pred = model_reg.fit().predict(X_reg)\n",
    "plt.plot(x_bytes, pred, color='red')"
   ]
  },
  {
   "cell_type": "markdown",
   "metadata": {},
   "source": [
    "### Linear Regression : second part"
   ]
  },
  {
   "cell_type": "code",
   "execution_count": 479,
   "metadata": {},
   "outputs": [],
   "source": [
    "dic = {}\n",
    "for index, row in data_bis_2.iterrows():\n",
    "    if row['bytes'] not in dic:\n",
    "        dic[row['bytes']] = [row['transmission_time']]\n",
    "    else:\n",
    "        dic[row['bytes']].append(row['transmission_time'])\n",
    "\n",
    "for key, value in dic.items():\n",
    "    dic[key] = min(value)\n",
    "\n",
    "x_bytes = dic.keys()\n",
    "x_bytes = [int(i) for i in x_bytes]\n",
    "y_min_time = dic.values()\n",
    "y_min_time = [float(j) for j in y_min_time]"
   ]
  },
  {
   "cell_type": "code",
   "execution_count": 480,
   "metadata": {},
   "outputs": [
    {
     "data": {
      "text/html": [
       "<table class=\"simpletable\">\n",
       "<caption>OLS Regression Results</caption>\n",
       "<tr>\n",
       "  <th>Dep. Variable:</th>            <td>y</td>        <th>  R-squared:         </th> <td>   0.001</td>\n",
       "</tr>\n",
       "<tr>\n",
       "  <th>Model:</th>                   <td>OLS</td>       <th>  Adj. R-squared:    </th> <td>  -0.001</td>\n",
       "</tr>\n",
       "<tr>\n",
       "  <th>Method:</th>             <td>Least Squares</td>  <th>  F-statistic:       </th> <td>  0.3095</td>\n",
       "</tr>\n",
       "<tr>\n",
       "  <th>Date:</th>             <td>Sat, 11 Jan 2020</td> <th>  Prob (F-statistic):</th>  <td> 0.578</td> \n",
       "</tr>\n",
       "<tr>\n",
       "  <th>Time:</th>                 <td>17:55:38</td>     <th>  Log-Likelihood:    </th> <td> -1457.8</td>\n",
       "</tr>\n",
       "<tr>\n",
       "  <th>No. Observations:</th>      <td>   506</td>      <th>  AIC:               </th> <td>   2920.</td>\n",
       "</tr>\n",
       "<tr>\n",
       "  <th>Df Residuals:</th>          <td>   504</td>      <th>  BIC:               </th> <td>   2928.</td>\n",
       "</tr>\n",
       "<tr>\n",
       "  <th>Df Model:</th>              <td>     1</td>      <th>                     </th>     <td> </td>   \n",
       "</tr>\n",
       "<tr>\n",
       "  <th>Covariance Type:</th>      <td>nonrobust</td>    <th>                     </th>     <td> </td>   \n",
       "</tr>\n",
       "</table>\n",
       "<table class=\"simpletable\">\n",
       "<tr>\n",
       "    <td></td>       <th>coef</th>     <th>std err</th>      <th>t</th>      <th>P>|t|</th>  <th>[0.025</th>    <th>0.975]</th>  \n",
       "</tr>\n",
       "<tr>\n",
       "  <th>x1</th>    <td>    0.0007</td> <td>    0.001</td> <td>    0.556</td> <td> 0.578</td> <td>   -0.002</td> <td>    0.003</td>\n",
       "</tr>\n",
       "<tr>\n",
       "  <th>const</th> <td>  111.2728</td> <td>    2.228</td> <td>   49.936</td> <td> 0.000</td> <td>  106.895</td> <td>  115.651</td>\n",
       "</tr>\n",
       "</table>\n",
       "<table class=\"simpletable\">\n",
       "<tr>\n",
       "  <th>Omnibus:</th>       <td>703.442</td> <th>  Durbin-Watson:     </th> <td>   1.553</td> \n",
       "</tr>\n",
       "<tr>\n",
       "  <th>Prob(Omnibus):</th> <td> 0.000</td>  <th>  Jarque-Bera (JB):  </th> <td>75785.593</td>\n",
       "</tr>\n",
       "<tr>\n",
       "  <th>Skew:</th>          <td> 7.450</td>  <th>  Prob(JB):          </th> <td>    0.00</td> \n",
       "</tr>\n",
       "<tr>\n",
       "  <th>Kurtosis:</th>      <td>61.074</td>  <th>  Cond. No.          </th> <td>2.03e+04</td> \n",
       "</tr>\n",
       "</table><br/><br/>Warnings:<br/>[1] Standard Errors assume that the covariance matrix of the errors is correctly specified.<br/>[2] The condition number is large, 2.03e+04. This might indicate that there are<br/>strong multicollinearity or other numerical problems."
      ],
      "text/plain": [
       "<class 'statsmodels.iolib.summary.Summary'>\n",
       "\"\"\"\n",
       "                            OLS Regression Results                            \n",
       "==============================================================================\n",
       "Dep. Variable:                      y   R-squared:                       0.001\n",
       "Model:                            OLS   Adj. R-squared:                 -0.001\n",
       "Method:                 Least Squares   F-statistic:                    0.3095\n",
       "Date:                Sat, 11 Jan 2020   Prob (F-statistic):              0.578\n",
       "Time:                        17:55:38   Log-Likelihood:                -1457.8\n",
       "No. Observations:                 506   AIC:                             2920.\n",
       "Df Residuals:                     504   BIC:                             2928.\n",
       "Df Model:                           1                                         \n",
       "Covariance Type:            nonrobust                                         \n",
       "==============================================================================\n",
       "                 coef    std err          t      P>|t|      [0.025      0.975]\n",
       "------------------------------------------------------------------------------\n",
       "x1             0.0007      0.001      0.556      0.578      -0.002       0.003\n",
       "const        111.2728      2.228     49.936      0.000     106.895     115.651\n",
       "==============================================================================\n",
       "Omnibus:                      703.442   Durbin-Watson:                   1.553\n",
       "Prob(Omnibus):                  0.000   Jarque-Bera (JB):            75785.593\n",
       "Skew:                           7.450   Prob(JB):                         0.00\n",
       "Kurtosis:                      61.074   Cond. No.                     2.03e+04\n",
       "==============================================================================\n",
       "\n",
       "Warnings:\n",
       "[1] Standard Errors assume that the covariance matrix of the errors is correctly specified.\n",
       "[2] The condition number is large, 2.03e+04. This might indicate that there are\n",
       "strong multicollinearity or other numerical problems.\n",
       "\"\"\""
      ]
     },
     "execution_count": 480,
     "metadata": {},
     "output_type": "execute_result"
    }
   ],
   "source": [
    "X_reg = x_bytes\n",
    "X_reg = np.vander(X_reg, 2)\n",
    "y_reg = y_min_time\n",
    "model_reg = sm.OLS(y_reg, X_reg)\n",
    "results_reg = model_reg.fit()\n",
    "results_reg.summary()"
   ]
  },
  {
   "cell_type": "code",
   "execution_count": 481,
   "metadata": {},
   "outputs": [
    {
     "data": {
      "text/plain": [
       "[<matplotlib.lines.Line2D at 0x7fb7b1fb6250>]"
      ]
     },
     "execution_count": 481,
     "metadata": {},
     "output_type": "execute_result"
    },
    {
     "data": {
      "image/png": "[encoded data removed]",
      "text/plain": [
       "<Figure size 432x288 with 1 Axes>"
      ]
     },
     "metadata": {
      "needs_background": "light"
     },
     "output_type": "display_data"
    }
   ],
   "source": [
    "plt.scatter(x_bytes, y_min_time)\n",
    "pred = model_reg.fit().predict(X_reg)\n",
    "plt.plot(x_bytes, pred, color='red')"
   ]
  },
  {
   "cell_type": "markdown",
   "metadata": {},
   "source": [
    "We have a lot more outliers in this data set. Even if we take the minimum of transmission time of each byte, we still have lots of variations. But the linear regression shows that when the number of bytes increases, the transmission time seems to increase too."
   ]
  },
  {
   "cell_type": "markdown",
   "metadata": {},
   "source": [
    " "
   ]
  },
  {
   "cell_type": "markdown",
   "metadata": {},
   "source": [
    "# Conclusion"
   ]
  },
  {
   "cell_type": "markdown",
   "metadata": {},
   "source": [
    "These two data sets were a good training to implement a <b>Reproducible Research</b>. They were well structured and easy to use. I have learned useful tricks in Python and I will definitely use Jupyter Notebook in my future life as a researcher."
   ]
  }
 ],
 "metadata": {
  "kernelspec": {
   "display_name": "Python 3",
   "language": "python",
   "name": "python3"
  },
  "language_info": {
   "codemirror_mode": {
    "name": "ipython",
    "version": 3
   },
   "file_extension": ".py",
   "mimetype": "text/x-python",
   "name": "python",
   "nbconvert_exporter": "python",
   "pygments_lexer": "ipython3",
   "version": "3.8.0"
  }
 },
 "nbformat": 4,
 "nbformat_minor": 2
}
